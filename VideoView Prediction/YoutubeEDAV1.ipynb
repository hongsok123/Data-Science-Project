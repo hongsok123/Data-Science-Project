{
 "cells": [
  {
   "cell_type": "code",
   "execution_count": 1,
   "id": "f88090ed-bece-46bb-99e5-40c95c421d02",
   "metadata": {},
   "outputs": [
    {
     "data": {
      "text/html": [
       "<div>\n",
       "<style scoped>\n",
       "    .dataframe tbody tr th:only-of-type {\n",
       "        vertical-align: middle;\n",
       "    }\n",
       "\n",
       "    .dataframe tbody tr th {\n",
       "        vertical-align: top;\n",
       "    }\n",
       "\n",
       "    .dataframe thead th {\n",
       "        text-align: right;\n",
       "    }\n",
       "</style>\n",
       "<table border=\"1\" class=\"dataframe\">\n",
       "  <thead>\n",
       "    <tr style=\"text-align: right;\">\n",
       "      <th></th>\n",
       "      <th>Video Link</th>\n",
       "      <th>Vid_View</th>\n",
       "      <th>Video Title</th>\n",
       "      <th>Channel URL</th>\n",
       "      <th>Creator Name</th>\n",
       "      <th>Creator Gender</th>\n",
       "      <th>Total_Channel_Subscriber</th>\n",
       "      <th>Total Chanel Views</th>\n",
       "      <th>Duration of Video</th>\n",
       "      <th>Duration in Seconds</th>\n",
       "      <th>...</th>\n",
       "      <th>Subtitle</th>\n",
       "      <th>Video Description</th>\n",
       "      <th>Hashtags</th>\n",
       "      <th>No of Comments</th>\n",
       "      <th>Date of the Last Comment</th>\n",
       "      <th>Maximum Quality of the Video</th>\n",
       "      <th>No of Videos the Channel</th>\n",
       "      <th>No of Playlist</th>\n",
       "      <th>Premiered or Not</th>\n",
       "      <th>Com_En_Per_Week</th>\n",
       "    </tr>\n",
       "  </thead>\n",
       "  <tbody>\n",
       "    <tr>\n",
       "      <th>0</th>\n",
       "      <td>https://youtu.be/_0fUOJ55gis</td>\n",
       "      <td>146,059</td>\n",
       "      <td>Samse - Didupe Off-road Royal Enfield Himalayan</td>\n",
       "      <td>https://www.youtube.com/c/sriharick</td>\n",
       "      <td>srihari ck</td>\n",
       "      <td>Male</td>\n",
       "      <td>40200</td>\n",
       "      <td>7964284</td>\n",
       "      <td>0:30:41</td>\n",
       "      <td>1,841.00</td>\n",
       "      <td>...</td>\n",
       "      <td>No</td>\n",
       "      <td>Yes</td>\n",
       "      <td>0</td>\n",
       "      <td>419</td>\n",
       "      <td>8/6/2022</td>\n",
       "      <td>1080</td>\n",
       "      <td>462</td>\n",
       "      <td>12.0</td>\n",
       "      <td>No</td>\n",
       "      <td>1</td>\n",
       "    </tr>\n",
       "    <tr>\n",
       "      <th>1</th>\n",
       "      <td>https://youtu.be/_70MSLPRfZI</td>\n",
       "      <td>231,969</td>\n",
       "      <td>Bhoom Baddhal Web Series</td>\n",
       "      <td>https://www.youtube.com/c/ChaibisketTelugu</td>\n",
       "      <td>Chai Bisket</td>\n",
       "      <td>Male</td>\n",
       "      <td>920000</td>\n",
       "      <td>137535681</td>\n",
       "      <td>0:14:24</td>\n",
       "      <td>864</td>\n",
       "      <td>...</td>\n",
       "      <td>No</td>\n",
       "      <td>Yes</td>\n",
       "      <td>1</td>\n",
       "      <td>189</td>\n",
       "      <td>6/15/2022</td>\n",
       "      <td>1080</td>\n",
       "      <td>251</td>\n",
       "      <td>12.0</td>\n",
       "      <td>Yes</td>\n",
       "      <td>2</td>\n",
       "    </tr>\n",
       "    <tr>\n",
       "      <th>2</th>\n",
       "      <td>https://youtu.be/_8gfCdt3H00?t=87s</td>\n",
       "      <td>878</td>\n",
       "      <td>Customer Psychology, Four Views Of Consumer De...</td>\n",
       "      <td>https://www.youtube.com/channel/UCcIUnCsBfONvb...</td>\n",
       "      <td>Virda Warsi</td>\n",
       "      <td>Female</td>\n",
       "      <td>458</td>\n",
       "      <td>72945</td>\n",
       "      <td>0:08:12</td>\n",
       "      <td>492</td>\n",
       "      <td>...</td>\n",
       "      <td>No</td>\n",
       "      <td>Yes</td>\n",
       "      <td>0</td>\n",
       "      <td>0</td>\n",
       "      <td>NaN</td>\n",
       "      <td>720</td>\n",
       "      <td>158</td>\n",
       "      <td>0.0</td>\n",
       "      <td>No</td>\n",
       "      <td>0</td>\n",
       "    </tr>\n",
       "    <tr>\n",
       "      <th>3</th>\n",
       "      <td>https://youtu.be/_CkFNJgKsFs</td>\n",
       "      <td>9,965</td>\n",
       "      <td>Top countries with proven natural gas reserves</td>\n",
       "      <td>https://www.youtube.com/c/trtworld</td>\n",
       "      <td>TRT</td>\n",
       "      <td>NaN</td>\n",
       "      <td>1680000</td>\n",
       "      <td>541653219</td>\n",
       "      <td>0:01:06</td>\n",
       "      <td>66</td>\n",
       "      <td>...</td>\n",
       "      <td>No</td>\n",
       "      <td>Yes</td>\n",
       "      <td>0</td>\n",
       "      <td>77</td>\n",
       "      <td>9/22/2022</td>\n",
       "      <td>1080</td>\n",
       "      <td>46509</td>\n",
       "      <td>48.0</td>\n",
       "      <td>No</td>\n",
       "      <td>20</td>\n",
       "    </tr>\n",
       "    <tr>\n",
       "      <th>4</th>\n",
       "      <td>https://youtu.be/_GFkHA5EZdE</td>\n",
       "      <td>39,780,561</td>\n",
       "      <td>73 Questions With Selena Gomez</td>\n",
       "      <td>Vogue - YouTube</td>\n",
       "      <td>Vogue</td>\n",
       "      <td>NaN</td>\n",
       "      <td>12100000</td>\n",
       "      <td>3600496171</td>\n",
       "      <td>0:07:40</td>\n",
       "      <td>460</td>\n",
       "      <td>...</td>\n",
       "      <td>yes</td>\n",
       "      <td>Yes</td>\n",
       "      <td>0</td>\n",
       "      <td>28221</td>\n",
       "      <td>9/23/2022</td>\n",
       "      <td>1080</td>\n",
       "      <td>2872</td>\n",
       "      <td>113.0</td>\n",
       "      <td>No</td>\n",
       "      <td>1</td>\n",
       "    </tr>\n",
       "  </tbody>\n",
       "</table>\n",
       "<p>5 rows × 23 columns</p>\n",
       "</div>"
      ],
      "text/plain": [
       "                           Video Link    Vid_View  \\\n",
       "0        https://youtu.be/_0fUOJ55gis     146,059   \n",
       "1        https://youtu.be/_70MSLPRfZI     231,969   \n",
       "2  https://youtu.be/_8gfCdt3H00?t=87s         878   \n",
       "3        https://youtu.be/_CkFNJgKsFs       9,965   \n",
       "4        https://youtu.be/_GFkHA5EZdE  39,780,561   \n",
       "\n",
       "                                         Video Title  \\\n",
       "0    Samse - Didupe Off-road Royal Enfield Himalayan   \n",
       "1                           Bhoom Baddhal Web Series   \n",
       "2  Customer Psychology, Four Views Of Consumer De...   \n",
       "3     Top countries with proven natural gas reserves   \n",
       "4                     73 Questions With Selena Gomez   \n",
       "\n",
       "                                         Channel URL Creator Name  \\\n",
       "0                https://www.youtube.com/c/sriharick   srihari ck   \n",
       "1         https://www.youtube.com/c/ChaibisketTelugu  Chai Bisket   \n",
       "2  https://www.youtube.com/channel/UCcIUnCsBfONvb...  Virda Warsi   \n",
       "3                 https://www.youtube.com/c/trtworld          TRT   \n",
       "4                                    Vogue - YouTube        Vogue   \n",
       "\n",
       "  Creator Gender Total_Channel_Subscriber Total Chanel Views  \\\n",
       "0           Male                    40200            7964284   \n",
       "1           Male                   920000          137535681   \n",
       "2         Female                      458              72945   \n",
       "3            NaN                  1680000          541653219   \n",
       "4            NaN                 12100000         3600496171   \n",
       "\n",
       "  Duration of Video Duration in Seconds  ... Subtitle  Video Description  \\\n",
       "0           0:30:41            1,841.00  ...       No                Yes   \n",
       "1           0:14:24                 864  ...       No                Yes   \n",
       "2           0:08:12                 492  ...       No                Yes   \n",
       "3           0:01:06                  66  ...       No                Yes   \n",
       "4           0:07:40                 460  ...      yes                Yes   \n",
       "\n",
       "  Hashtags No of Comments Date of the Last Comment  \\\n",
       "0        0            419                 8/6/2022   \n",
       "1        1            189                6/15/2022   \n",
       "2        0              0                      NaN   \n",
       "3        0             77                9/22/2022   \n",
       "4        0          28221                9/23/2022   \n",
       "\n",
       "   Maximum Quality of the Video No of Videos the Channel No of Playlist  \\\n",
       "0                          1080                      462           12.0   \n",
       "1                          1080                      251           12.0   \n",
       "2                           720                      158            0.0   \n",
       "3                          1080                    46509           48.0   \n",
       "4                          1080                     2872          113.0   \n",
       "\n",
       "   Premiered or Not  Com_En_Per_Week  \n",
       "0                No                1  \n",
       "1               Yes                2  \n",
       "2                No                0  \n",
       "3                No               20  \n",
       "4                No                1  \n",
       "\n",
       "[5 rows x 23 columns]"
      ]
     },
     "execution_count": 1,
     "metadata": {},
     "output_type": "execute_result"
    }
   ],
   "source": [
    "import pandas as pd\n",
    "import matplotlib.pyplot as plt \n",
    "import re\n",
    "import seaborn as sns \n",
    "%matplotlib inline\n",
    "import seaborn as sns\n",
    "from datetime import datetime\n",
    "from eda_module import *\n",
    "\n",
    "#Shorten video link \n",
    "def transform_short_link(long_link: str) -> str:\n",
    "    patterns = {\n",
    "        0: [r\"(www\\.youtube\\.com)\", \"youtu.be\"],\n",
    "        1: [r\"watch\\?v=([a-zA-Zz0-9_-]{11})\", r\"\\1\"],\n",
    "        2: [r\"&t=(\\d+)s\", r\"?t=\\1s\"],\n",
    "    }\n",
    "    \n",
    "    new_link = long_link\n",
    "    \n",
    "    for i in range(3):\n",
    "        new_link = re.sub(patterns[i][0], patterns[i][1], new_link)\n",
    "        \n",
    "    return new_link\n",
    "\n",
    "def transform_malformed_datetime(dt: str) -> str:\n",
    "    if type(dt) is not str:\n",
    "        return dt\n",
    "    \n",
    "    pattern = r\"^(.+)-(.+)-(.+)$\"\n",
    "    match = re.search(pattern, dt)\n",
    "    if not match:\n",
    "        return dt\n",
    "    \n",
    "    groups = match.groups()\n",
    "    return \"/\".join([groups[1], groups[0], groups[2]])\n",
    "\n",
    "df = pd.read_csv('youtube.csv', encoding='latin')\n",
    "df['Video Link'] = df['Video Link'].apply(transform_short_link)\n",
    "df['Date of Video Upload'] = df['Date of Video Upload'].apply(transform_malformed_datetime)\n",
    "df['Date of the Last Comment'] = df['Date of the Last Comment'].apply(transform_malformed_datetime)\n",
    "df.head(5)"
   ]
  },
  {
   "cell_type": "code",
   "execution_count": 2,
   "id": "aff35982-04bd-4481-bda4-fd9a494712b7",
   "metadata": {},
   "outputs": [],
   "source": [
    "df.columns = df.columns.str.lower()\n",
    "df.columns = df.columns.str.replace(' ','_')"
   ]
  },
  {
   "cell_type": "markdown",
   "id": "b78a238d-3fcf-4737-bb99-c9c583bea82e",
   "metadata": {},
   "source": [
    "# Data Wrangling \n",
    "\n",
    "Our dataset is accidentally detected with some of missing value and some outlier. And also its value inside are not clean making us not easier to understand so due to of these reasons, we have to use some of method plus some of built-in function of python to process dealing with this. \n",
    "\n",
    "Objective to Change : \n",
    "\n",
    "1. Shorten Video Link \n",
    "2. Rename some of incorrected column name \n",
    "3. Convert dtype for each column value \n",
    "4. Markout value to replace outlier \n",
    "5. Replace nan value by another name in creator_gender"
   ]
  },
  {
   "cell_type": "code",
   "execution_count": 3,
   "id": "1dddc06a-2f8f-4440-ab65-83347c2294bd",
   "metadata": {},
   "outputs": [
    {
     "data": {
      "text/plain": [
       "0            https://youtu.be/_0fUOJ55gis\n",
       "1            https://youtu.be/_70MSLPRfZI\n",
       "2      https://youtu.be/_8gfCdt3H00?t=87s\n",
       "3            https://youtu.be/_CkFNJgKsFs\n",
       "4            https://youtu.be/_GFkHA5EZdE\n",
       "                      ...                \n",
       "900          https://youtu.be/GS18WawA-t0\n",
       "901          https://youtu.be/_tc_APkjH2Q\n",
       "902          https://youtu.be/Xfj4osSYfhU\n",
       "903          https://youtu.be/mGEHqwVz0eI\n",
       "904          https://youtu.be/UGATpt0I4vA\n",
       "Name: video_link, Length: 905, dtype: object"
      ]
     },
     "execution_count": 3,
     "metadata": {},
     "output_type": "execute_result"
    }
   ],
   "source": [
    "df[\"video_link\"]"
   ]
  },
  {
   "cell_type": "code",
   "execution_count": 4,
   "id": "34f4e5d7-e582-43b5-be52-b98819095a4f",
   "metadata": {},
   "outputs": [
    {
     "data": {
      "text/plain": [
       "0      False\n",
       "1      False\n",
       "2      False\n",
       "3      False\n",
       "4      False\n",
       "       ...  \n",
       "900    False\n",
       "901    False\n",
       "902    False\n",
       "903    False\n",
       "904    False\n",
       "Name: video_link, Length: 905, dtype: bool"
      ]
     },
     "execution_count": 4,
     "metadata": {},
     "output_type": "execute_result"
    }
   ],
   "source": [
    "#Detect null value \n",
    "df['video_link'].isnull()"
   ]
  },
  {
   "cell_type": "code",
   "execution_count": 5,
   "id": "ff360872-2cad-40d7-ad27-26dfd13fb2f4",
   "metadata": {},
   "outputs": [
    {
     "data": {
      "text/plain": [
       "0      False\n",
       "1      False\n",
       "2      False\n",
       "3      False\n",
       "4      False\n",
       "       ...  \n",
       "900    False\n",
       "901    False\n",
       "902    False\n",
       "903    False\n",
       "904    False\n",
       "Name: creator_name, Length: 905, dtype: bool"
      ]
     },
     "execution_count": 5,
     "metadata": {},
     "output_type": "execute_result"
    }
   ],
   "source": [
    "df['creator_name'].isnull()"
   ]
  },
  {
   "cell_type": "code",
   "execution_count": 6,
   "id": "e3c349fb-6e46-4845-b791-90df55fa90ef",
   "metadata": {},
   "outputs": [
    {
     "data": {
      "text/plain": [
       "creator_name\n",
       "100 Years Of Health      196000.0\n",
       "2 Brother Vlogs            2400.0\n",
       "365 Data Science          13000.0\n",
       "5-Minutes Décor          680000.0\n",
       "A Girl From Uk02              0.0\n",
       "                          ...    \n",
       "newslanudry                 670.0\n",
       "srihari ck                 6700.0\n",
       "touropia                  98000.0\n",
       "your story tv               224.0\n",
       " Anubhav Singh Bassi    2400000.0\n",
       "Name: no_of_likes, Length: 619, dtype: float64"
      ]
     },
     "execution_count": 6,
     "metadata": {},
     "output_type": "execute_result"
    }
   ],
   "source": [
    "#Find number of like by gender \n",
    "df.groupby('creator_name')['no_of_likes'].sum()"
   ]
  },
  {
   "cell_type": "code",
   "execution_count": 7,
   "id": "8b45987c-ab64-4003-849e-cf5c2d16f48f",
   "metadata": {},
   "outputs": [],
   "source": [
    "#Removing null value to avoid error\n",
    "#df.dropna(inplace = True)"
   ]
  },
  {
   "cell_type": "code",
   "execution_count": 8,
   "id": "8497441e-232e-4297-9e16-c655b43c3cd8",
   "metadata": {},
   "outputs": [
    {
     "data": {
      "text/plain": [
       "video_link                        0\n",
       "vid_view                          0\n",
       "video_title                       0\n",
       "channel_url                       0\n",
       "creator_name                     11\n",
       "creator_gender                  314\n",
       "total_channel_subscriber          0\n",
       "total_chanel_views                0\n",
       "duration_of_video                 0\n",
       "duration_in_seconds               0\n",
       "date_of_video_upload              0\n",
       "no_of_likes                       1\n",
       "language_of_the_video            21\n",
       "subtitle                          1\n",
       "video_description                 0\n",
       "hashtags                          0\n",
       "no_of_comments                    0\n",
       "date_of_the_last_comment         24\n",
       "maximum_quality_of_the_video      0\n",
       "no_of_videos_the_channel          0\n",
       "no_of_playlist                    9\n",
       "premiered_or_not                  0\n",
       "com_en_per_week                   0\n",
       "dtype: int64"
      ]
     },
     "execution_count": 8,
     "metadata": {},
     "output_type": "execute_result"
    }
   ],
   "source": [
    "df.isna().sum()"
   ]
  },
  {
   "cell_type": "code",
   "execution_count": 9,
   "id": "3e588751-ad43-4bf1-8f64-ae7366e92600",
   "metadata": {},
   "outputs": [],
   "source": [
    "#Rename Column \n",
    "df.rename(columns = {\"total_chanel_views\" : \"total_channel_views\"}, inplace = True )"
   ]
  },
  {
   "cell_type": "code",
   "execution_count": 10,
   "id": "ae2682d7-2fc2-4da7-8f49-36e9feb1ab96",
   "metadata": {},
   "outputs": [
    {
     "data": {
      "text/plain": [
       "Index(['video_link', 'vid_view', 'video_title', 'channel_url', 'creator_name',\n",
       "       'creator_gender', 'total_channel_subscriber', 'total_channel_views',\n",
       "       'duration_of_video', 'duration_in_seconds', 'date_of_video_upload',\n",
       "       'no_of_likes', 'language_of_the_video', 'subtitle', 'video_description',\n",
       "       'hashtags', 'no_of_comments', 'date_of_the_last_comment',\n",
       "       'maximum_quality_of_the_video', 'no_of_videos_the_channel',\n",
       "       'no_of_playlist', 'premiered_or_not', 'com_en_per_week'],\n",
       "      dtype='object')"
      ]
     },
     "execution_count": 10,
     "metadata": {},
     "output_type": "execute_result"
    }
   ],
   "source": [
    "df.columns"
   ]
  },
  {
   "cell_type": "code",
   "execution_count": 11,
   "id": "10d7ea2c-4d21-42ed-bff6-fb46a0ba6294",
   "metadata": {},
   "outputs": [
    {
     "data": {
      "text/plain": [
       "<AxesSubplot:>"
      ]
     },
     "execution_count": 11,
     "metadata": {},
     "output_type": "execute_result"
    },
    {
     "data": {
      "image/png": "[encoded data removed]",
      "text/plain": [
       "<Figure size 640x480 with 1 Axes>"
      ]
     },
     "metadata": {},
     "output_type": "display_data"
    }
   ],
   "source": [
    "#Plot graph to detect outlier \n",
    "df['no_of_playlist'].plot(kind = 'box')"
   ]
  },
  {
   "cell_type": "code",
   "execution_count": 12,
   "id": "eff249d5-5e0f-4d18-8ad1-ad3767dc6d68",
   "metadata": {},
   "outputs": [
    {
     "data": {
      "text/plain": [
       "<AxesSubplot:>"
      ]
     },
     "execution_count": 12,
     "metadata": {},
     "output_type": "execute_result"
    },
    {
     "data": {
      "image/png": "[encoded data removed]",
      "text/plain": [
       "<Figure size 640x480 with 1 Axes>"
      ]
     },
     "metadata": {},
     "output_type": "display_data"
    }
   ],
   "source": [
    "df['no_of_likes'].plot(kind = 'box')"
   ]
  },
  {
   "cell_type": "code",
   "execution_count": 13,
   "id": "943e5633-e206-4bc1-96c5-659b76fcde2c",
   "metadata": {},
   "outputs": [],
   "source": [
    "#There are a bunch of outliers "
   ]
  },
  {
   "cell_type": "code",
   "execution_count": 14,
   "id": "05ff960a-1aa8-4bc3-88a5-38357cd1b697",
   "metadata": {},
   "outputs": [],
   "source": [
    "#Replacing with Median values as there are so many outliers\n",
    "df['no_of_likes'].fillna(int(df['no_of_likes'].median()),inplace = True)\n",
    "df['no_of_playlist'].fillna(int(df['no_of_playlist'].median()),inplace = True)"
   ]
  },
  {
   "cell_type": "code",
   "execution_count": 15,
   "id": "922c1106-5341-40df-a7dd-4a6b04dec359",
   "metadata": {},
   "outputs": [
    {
     "data": {
      "text/plain": [
       "<AxesSubplot:>"
      ]
     },
     "execution_count": 15,
     "metadata": {},
     "output_type": "execute_result"
    },
    {
     "data": {
      "image/png": "[encoded data removed]",
      "text/plain": [
       "<Figure size 640x480 with 1 Axes>"
      ]
     },
     "metadata": {},
     "output_type": "display_data"
    }
   ],
   "source": [
    "df['no_of_likes'].plot(kind = 'box')\n",
    "#df['No of Playlist'].plot(kind = 'box')"
   ]
  },
  {
   "cell_type": "code",
   "execution_count": 16,
   "id": "9452e79d-dc60-4369-b3d0-0d623165c940",
   "metadata": {},
   "outputs": [
    {
     "data": {
      "text/plain": [
       "<AxesSubplot:>"
      ]
     },
     "execution_count": 16,
     "metadata": {},
     "output_type": "execute_result"
    },
    {
     "data": {
      "image/png": "[encoded data removed]",
      "text/plain": [
       "<Figure size 640x480 with 1 Axes>"
      ]
     },
     "metadata": {},
     "output_type": "display_data"
    }
   ],
   "source": [
    "df['no_of_playlist'].plot(kind = 'box')"
   ]
  },
  {
   "cell_type": "code",
   "execution_count": 17,
   "id": "e8f75ff9-f488-4eb3-b9c1-c6c316bb9bb6",
   "metadata": {},
   "outputs": [
    {
     "name": "stdout",
     "output_type": "stream",
     "text": [
      "Male       494\n",
      "Female      78\n",
      "Company     19\n",
      "Name: creator_gender, dtype: int64\n"
     ]
    }
   ],
   "source": [
    "#the gender coloum is very likely having many missing values \n",
    "print(df['creator_gender'].value_counts())"
   ]
  },
  {
   "cell_type": "code",
   "execution_count": 18,
   "id": "1e808715-c3e3-4963-8cd3-4c3cdd2bfa31",
   "metadata": {},
   "outputs": [
    {
     "data": {
      "text/plain": [
       "<AxesSubplot:ylabel='creator_gender'>"
      ]
     },
     "execution_count": 18,
     "metadata": {},
     "output_type": "execute_result"
    },
    {
     "data": {
      "image/png": "[encoded data removed]",
      "text/plain": [
       "<Figure size 640x480 with 1 Axes>"
      ]
     },
     "metadata": {},
     "output_type": "display_data"
    }
   ],
   "source": [
    "df['creator_gender'].value_counts(dropna = False).plot(kind = 'pie',autopct='%1.1f%%')"
   ]
  },
  {
   "cell_type": "code",
   "execution_count": 19,
   "id": "9e58f7bb-2310-4fda-977e-9da68178dbc0",
   "metadata": {},
   "outputs": [],
   "source": [
    "#The pie graph indicate that missing value (nan) are 34.7% which would be hugely affected to the data accuracy "
   ]
  },
  {
   "cell_type": "code",
   "execution_count": 20,
   "id": "2a4c9196-d259-4e5e-9fae-442267173ee1",
   "metadata": {},
   "outputs": [
    {
     "data": {
      "text/plain": [
       "array(['Mr Beast', 'Data Is Wonderful', 'Battlegrounds Mobile',\n",
       "       'Beyounick', 'Nat Geo Wild', '365 Data Science', 'Motiversity',\n",
       "       'Athleanx', 'Spinninrecords', 'Be Inspired Channel',\n",
       "       'Business Insider', 'The Prime Thanatos', 'Dude Perfect',\n",
       "       'All Chill Nation', 'Cartooning Club How to Draw',\n",
       "       'Drawing 4 Kids How to Draw', 'Clash Of Clans',\n",
       "       'Applied AI Course'], dtype=object)"
      ]
     },
     "execution_count": 20,
     "metadata": {},
     "output_type": "execute_result"
    }
   ],
   "source": [
    "#Selected only main name of the company valuse name\n",
    "df[df['creator_gender'] == 'Company']['creator_name'].unique()[:25]"
   ]
  },
  {
   "cell_type": "code",
   "execution_count": 21,
   "id": "42bb424a-7571-46c0-87f8-3f305dd7f3e8",
   "metadata": {},
   "outputs": [
    {
     "data": {
      "text/plain": [
       "array(['Car Crash - Driving Fail', 'ABB Formula E', 'Clash of Clans',\n",
       "       'AJ+', 'Business Insider', 'Edureka', 'DW Documentary', nan,\n",
       "       'Daily Motivation', 'The Screen Patti', 'HUM Music',\n",
       "       'UFC - Ultimate Fighting Championship', 'TEDx', 'Einzelgänger',\n",
       "       'Pagani Automobili', 'Marvel', 'Ted-Ed', 'History',\n",
       "       'The Viral Fever', 'Datascience Roadmap', 'Mad Lab', 'Sidenote',\n",
       "       'Janson Media', 'Hindustan Times', 'The BLUNT', 'Tesery',\n",
       "       'PlayStation', 'Ubisoft', 'Corridor', 'Dude perfect',\n",
       "       'Volga Video', 'CNN', 'Porsche', 'Xpertgamingtech', 'BBC',\n",
       "       'Bugatti', 'BBC News', 'Tedx Talks', 'English Speeches',\n",
       "       'Warner Bros', 'DC', 'Law Of Attraction Coaching', 'The Quint',\n",
       "       'Castrol', 'Hoog', 'Muaxh03', 'Life Noggin', 'All India Bakchod',\n",
       "       'Watchgecko', 'Harvard University', 'Cartoon Network India',\n",
       "       'MetroSaga', 'SonyLIV', 'Forged in Fire', 'Edureka!',\n",
       "       'Freecodecamp.Org', 'MotoGP', 'SagaHits', 'newslanudry',\n",
       "       'Need for Speed', 'Green Gold TV', 'CAR CHANNEL',\n",
       "       'Wild Tusker Sakrebylu', 'Top Generality', 'Guardian Sport',\n",
       "       'Fluctus', 'Scenic Scenes', 'DD INDIA', 'One Direction', 'WION',\n",
       "       'Netflix', 'REAL SPACE', 'Blockshelf', 'Call of Duty', 'GT cars',\n",
       "       'Shining Talent', 'GMC', 'Al Jazeera English', 'Dji Tutorials',\n",
       "       'Free Documentary', 'WB Kids', 'The Economist', 'Lamborghini',\n",
       "       'Muse Asia', 'WranglerJKLS', 'RC MEDIA WORLD', 'Yidircars',\n",
       "       'Aroundbi', 'The Church Of Almighty God', 'CNBC',\n",
       "       'Packattack04082', 'Batman Arkham', 'ABC News', 'Acvideos',\n",
       "       'etvteluguindia', 'TheUnrevolutionized', 'Motech',\n",
       "       'Bey Toons India', 'MKIceAndFire', 'Newsflare', 'Kerala Police',\n",
       "       'Generalkidd', 'your story tv', 'Kurzgesagt \\x96 In a Nutshell',\n",
       "       'Netflix India', 'Epicurious', 'JoBlo Animated Videos', 'Lesics',\n",
       "       'Moto Zip', 'Desh Gujarat HD', 'Sothanaigal',\n",
       "       'Sony Sports Network', 'Nakkalites', 'BestieMedia',\n",
       "       'Delhi Knowledge Track', 'AshStudio7', 'Destiny', 'BehindwoodsTV',\n",
       "       'Udyansh Society', 'Marvel Entertainment', 'Supercar Blondie',\n",
       "       'Cute Hub', 'bureau of meteorology', 'The Gebonions',\n",
       "       'The better india', 'Stryxo', 'Down to earth magazine',\n",
       "       'CRUX news', 'What If', 'ThinkSchool', 'Farmers Friend',\n",
       "       'Top Luxury', 'FactFile', 'Conscious Planet', 'Indian Monk',\n",
       "       'The quint', 'Gaming Moments', 'GERMAN TELEVISION',\n",
       "       'Simplified Explanation', 'Dahir Insaat', 'The Space Race',\n",
       "       'United nations', 'The Infographics Show', 'Slayy Point',\n",
       "       'MotorOctane', 'FilterCopy', 'ICE', 'Karikku Fresh',\n",
       "       'Drishti IAS English', 'Sounds of Isha', 'Kindness For you',\n",
       "       'Veritasium', 'ABC News In-depth', 'ARY Digital HD', 'DC Books',\n",
       "       'lumiere Wedding Company', 'BRIGHT SIDE', 'Brut India',\n",
       "       'Midnight Chill', 'Pib India', 'Sony Music South',\n",
       "       'TRS Clips ?????', 'V101Science', 'Sarmaya Arts Foundation',\n",
       "       'ARN Sports', 'GameClips', 'BJP', 'T-Series', 'kappa tv',\n",
       "       'Power Drift', 'YouTube', 'Mahnama Phool', 'Sahil Online TV News',\n",
       "       'Sahil Online Bhatkal'], dtype=object)"
      ]
     },
     "execution_count": 21,
     "metadata": {},
     "output_type": "execute_result"
    }
   ],
   "source": [
    "df[df[\"creator_gender\"].isnull()]['creator_name'].unique()[25:]"
   ]
  },
  {
   "cell_type": "code",
   "execution_count": 22,
   "id": "4c8c3325-047b-4e12-bbbe-2cb961b370f0",
   "metadata": {},
   "outputs": [],
   "source": [
    "df.loc[df['creator_gender'].isnull(), 'creator_gender' ] = 'Company'"
   ]
  },
  {
   "cell_type": "code",
   "execution_count": 23,
   "id": "6eccd8f4-3de0-4c0f-87d9-25439354a847",
   "metadata": {},
   "outputs": [
    {
     "data": {
      "text/plain": [
       "<AxesSubplot:ylabel='creator_gender'>"
      ]
     },
     "execution_count": 23,
     "metadata": {},
     "output_type": "execute_result"
    },
    {
     "data": {
      "image/png": "[encoded data removed]",
      "text/plain": [
       "<Figure size 640x480 with 1 Axes>"
      ]
     },
     "metadata": {},
     "output_type": "display_data"
    }
   ],
   "source": [
    "df['creator_gender'].value_counts(dropna= False).plot(kind = 'pie',autopct='%1.1f%%')"
   ]
  },
  {
   "cell_type": "code",
   "execution_count": 24,
   "id": "06aa12b9-d2e4-4daa-8357-fd83b7842d8d",
   "metadata": {},
   "outputs": [],
   "source": [
    "#Change Datatyoe of column \n",
    "df['total_channel_subscriber'] = df['total_channel_subscriber'].astype('str').astype('int')\n",
    "df['no_of_likes'] = df['no_of_likes'].astype('Int64') #Capital Int64 to not run into NaN values\n",
    "df['no_of_playlist'] = df['no_of_playlist'].astype('Int64')    \n",
    "\n",
    "# Converting to string type\n",
    "df['vid_view'] = df['vid_view'].astype(str)\n",
    "\n",
    "#remove whitespace\n",
    "\n",
    "df['vid_view'] = df['vid_view'].str.replace(\",\",\"\").str.strip()\n",
    "df['vid_view'] = pd.to_numeric(df['vid_view'])\n",
    "\n",
    "#Convert it to string dtype\n",
    "df['duration_in_seconds'] = df['duration_in_seconds'].astype(str)"
   ]
  },
  {
   "cell_type": "code",
   "execution_count": 25,
   "id": "ca3b13e2-4b3b-42e8-bec4-3136ea14f4ae",
   "metadata": {},
   "outputs": [],
   "source": [
    "df['duration_in_seconds'] = df['duration_in_seconds'].str.replace(\",\",\"\").str.strip()"
   ]
  },
  {
   "cell_type": "code",
   "execution_count": 26,
   "id": "03453406-436b-448c-9001-7e85cd7d410d",
   "metadata": {},
   "outputs": [],
   "source": [
    "df['duration_in_seconds'] = pd.to_numeric(df['duration_in_seconds']).astype(int)"
   ]
  },
  {
   "cell_type": "code",
   "execution_count": 27,
   "id": "2999729a-6738-4aa2-8129-f6e0edb0bce1",
   "metadata": {},
   "outputs": [
    {
     "data": {
      "text/html": [
       "<div>\n",
       "<style scoped>\n",
       "    .dataframe tbody tr th:only-of-type {\n",
       "        vertical-align: middle;\n",
       "    }\n",
       "\n",
       "    .dataframe tbody tr th {\n",
       "        vertical-align: top;\n",
       "    }\n",
       "\n",
       "    .dataframe thead th {\n",
       "        text-align: right;\n",
       "    }\n",
       "</style>\n",
       "<table border=\"1\" class=\"dataframe\">\n",
       "  <thead>\n",
       "    <tr style=\"text-align: right;\">\n",
       "      <th></th>\n",
       "      <th>total_channel_views</th>\n",
       "    </tr>\n",
       "  </thead>\n",
       "  <tbody>\n",
       "    <tr>\n",
       "      <th>0</th>\n",
       "      <td>7964284</td>\n",
       "    </tr>\n",
       "    <tr>\n",
       "      <th>1</th>\n",
       "      <td>137535681</td>\n",
       "    </tr>\n",
       "    <tr>\n",
       "      <th>2</th>\n",
       "      <td>72945</td>\n",
       "    </tr>\n",
       "    <tr>\n",
       "      <th>3</th>\n",
       "      <td>541653219</td>\n",
       "    </tr>\n",
       "    <tr>\n",
       "      <th>4</th>\n",
       "      <td>3600496171</td>\n",
       "    </tr>\n",
       "  </tbody>\n",
       "</table>\n",
       "</div>"
      ],
      "text/plain": [
       "  total_channel_views\n",
       "0             7964284\n",
       "1           137535681\n",
       "2               72945\n",
       "3           541653219\n",
       "4          3600496171"
      ]
     },
     "execution_count": 27,
     "metadata": {},
     "output_type": "execute_result"
    }
   ],
   "source": [
    "df[['total_channel_views']].head()"
   ]
  },
  {
   "cell_type": "code",
   "execution_count": 28,
   "id": "35b2f2bf-37f2-4c19-a304-d0562d78764d",
   "metadata": {},
   "outputs": [],
   "source": [
    "df['total_channel_views'] = df['total_channel_views'].astype(str)\n",
    "df['total_channel_views'] = df['total_channel_views'].str.replace(\",\",\"\").str.strip()\n",
    "df['total_channel_views'] = pd.to_numeric(df['total_channel_views']).astype(\"int64\")"
   ]
  },
  {
   "cell_type": "code",
   "execution_count": 29,
   "id": "58bd8f69-2f1e-4137-9e7f-91871a36ad8b",
   "metadata": {},
   "outputs": [],
   "source": [
    "df['no_of_comments'] = df['no_of_comments'].astype(str)\n",
    "df['no_of_comments'] = df['no_of_comments'].str.replace(',','').str.strip()\n",
    "df['no_of_comments'] = pd.to_numeric(df['no_of_comments'])"
   ]
  },
  {
   "cell_type": "code",
   "execution_count": 30,
   "id": "15864205-d54b-403f-932e-49813c9432bd",
   "metadata": {},
   "outputs": [
    {
     "data": {
      "text/html": [
       "<div>\n",
       "<style scoped>\n",
       "    .dataframe tbody tr th:only-of-type {\n",
       "        vertical-align: middle;\n",
       "    }\n",
       "\n",
       "    .dataframe tbody tr th {\n",
       "        vertical-align: top;\n",
       "    }\n",
       "\n",
       "    .dataframe thead th {\n",
       "        text-align: right;\n",
       "    }\n",
       "</style>\n",
       "<table border=\"1\" class=\"dataframe\">\n",
       "  <thead>\n",
       "    <tr style=\"text-align: right;\">\n",
       "      <th></th>\n",
       "      <th>no_of_comments</th>\n",
       "    </tr>\n",
       "  </thead>\n",
       "  <tbody>\n",
       "    <tr>\n",
       "      <th>0</th>\n",
       "      <td>419</td>\n",
       "    </tr>\n",
       "    <tr>\n",
       "      <th>1</th>\n",
       "      <td>189</td>\n",
       "    </tr>\n",
       "    <tr>\n",
       "      <th>2</th>\n",
       "      <td>0</td>\n",
       "    </tr>\n",
       "    <tr>\n",
       "      <th>3</th>\n",
       "      <td>77</td>\n",
       "    </tr>\n",
       "    <tr>\n",
       "      <th>4</th>\n",
       "      <td>28221</td>\n",
       "    </tr>\n",
       "  </tbody>\n",
       "</table>\n",
       "</div>"
      ],
      "text/plain": [
       "   no_of_comments\n",
       "0             419\n",
       "1             189\n",
       "2               0\n",
       "3              77\n",
       "4           28221"
      ]
     },
     "execution_count": 30,
     "metadata": {},
     "output_type": "execute_result"
    }
   ],
   "source": [
    "df[['no_of_comments']].head(5)"
   ]
  },
  {
   "cell_type": "code",
   "execution_count": 31,
   "id": "53df9c67-ba58-4c2b-a0bd-5732ddc9481b",
   "metadata": {},
   "outputs": [],
   "source": [
    "df['maximum_quality_of_the_video'] = df['maximum_quality_of_the_video'].astype(str)\n",
    "df['maximum_quality_of_the_video'] = df['maximum_quality_of_the_video'].apply(lambda x : x + 'p')"
   ]
  },
  {
   "cell_type": "code",
   "execution_count": 32,
   "id": "b1087361-fe10-4dfc-bed9-643a86c4619f",
   "metadata": {},
   "outputs": [
    {
     "data": {
      "text/html": [
       "<div>\n",
       "<style scoped>\n",
       "    .dataframe tbody tr th:only-of-type {\n",
       "        vertical-align: middle;\n",
       "    }\n",
       "\n",
       "    .dataframe tbody tr th {\n",
       "        vertical-align: top;\n",
       "    }\n",
       "\n",
       "    .dataframe thead th {\n",
       "        text-align: right;\n",
       "    }\n",
       "</style>\n",
       "<table border=\"1\" class=\"dataframe\">\n",
       "  <thead>\n",
       "    <tr style=\"text-align: right;\">\n",
       "      <th></th>\n",
       "      <th>maximum_quality_of_the_video</th>\n",
       "    </tr>\n",
       "  </thead>\n",
       "  <tbody>\n",
       "    <tr>\n",
       "      <th>0</th>\n",
       "      <td>1080p</td>\n",
       "    </tr>\n",
       "    <tr>\n",
       "      <th>1</th>\n",
       "      <td>1080p</td>\n",
       "    </tr>\n",
       "    <tr>\n",
       "      <th>2</th>\n",
       "      <td>720p</td>\n",
       "    </tr>\n",
       "    <tr>\n",
       "      <th>3</th>\n",
       "      <td>1080p</td>\n",
       "    </tr>\n",
       "    <tr>\n",
       "      <th>4</th>\n",
       "      <td>1080p</td>\n",
       "    </tr>\n",
       "    <tr>\n",
       "      <th>...</th>\n",
       "      <td>...</td>\n",
       "    </tr>\n",
       "    <tr>\n",
       "      <th>900</th>\n",
       "      <td>1080p</td>\n",
       "    </tr>\n",
       "    <tr>\n",
       "      <th>901</th>\n",
       "      <td>720p</td>\n",
       "    </tr>\n",
       "    <tr>\n",
       "      <th>902</th>\n",
       "      <td>720p</td>\n",
       "    </tr>\n",
       "    <tr>\n",
       "      <th>903</th>\n",
       "      <td>1080p</td>\n",
       "    </tr>\n",
       "    <tr>\n",
       "      <th>904</th>\n",
       "      <td>1080p</td>\n",
       "    </tr>\n",
       "  </tbody>\n",
       "</table>\n",
       "<p>905 rows × 1 columns</p>\n",
       "</div>"
      ],
      "text/plain": [
       "    maximum_quality_of_the_video\n",
       "0                          1080p\n",
       "1                          1080p\n",
       "2                           720p\n",
       "3                          1080p\n",
       "4                          1080p\n",
       "..                           ...\n",
       "900                        1080p\n",
       "901                         720p\n",
       "902                         720p\n",
       "903                        1080p\n",
       "904                        1080p\n",
       "\n",
       "[905 rows x 1 columns]"
      ]
     },
     "execution_count": 32,
     "metadata": {},
     "output_type": "execute_result"
    }
   ],
   "source": [
    "df[['maximum_quality_of_the_video']]"
   ]
  },
  {
   "cell_type": "code",
   "execution_count": 33,
   "id": "c27b9e22-798a-4bbf-9b0c-bfc99011ab3b",
   "metadata": {},
   "outputs": [
    {
     "data": {
      "text/plain": [
       "Yes    460\n",
       "No     380\n",
       "yes     64\n",
       "NaN      1\n",
       "Name: subtitle, dtype: int64"
      ]
     },
     "execution_count": 33,
     "metadata": {},
     "output_type": "execute_result"
    }
   ],
   "source": [
    "df.subtitle.value_counts(dropna = False)"
   ]
  },
  {
   "cell_type": "code",
   "execution_count": 34,
   "id": "80e56dfa-7a82-4d11-98a1-c860166c9302",
   "metadata": {},
   "outputs": [],
   "source": [
    "df['subtitle'] = df['subtitle'].map({'Yes':'yes', 'No': 'no', 'yes': 'yes'})"
   ]
  },
  {
   "cell_type": "code",
   "execution_count": 35,
   "id": "91b1cd35-5da6-475f-8a32-fdccb818ded0",
   "metadata": {},
   "outputs": [
    {
     "data": {
      "text/plain": [
       "yes    524\n",
       "no     380\n",
       "NaN      1\n",
       "Name: subtitle, dtype: int64"
      ]
     },
     "execution_count": 35,
     "metadata": {},
     "output_type": "execute_result"
    }
   ],
   "source": [
    "df.subtitle.value_counts(dropna = False)"
   ]
  },
  {
   "cell_type": "code",
   "execution_count": 36,
   "id": "c4d091f5-af64-4562-80fa-e4d0f3414fec",
   "metadata": {},
   "outputs": [
    {
     "data": {
      "text/html": [
       "<div>\n",
       "<style scoped>\n",
       "    .dataframe tbody tr th:only-of-type {\n",
       "        vertical-align: middle;\n",
       "    }\n",
       "\n",
       "    .dataframe tbody tr th {\n",
       "        vertical-align: top;\n",
       "    }\n",
       "\n",
       "    .dataframe thead th {\n",
       "        text-align: right;\n",
       "    }\n",
       "</style>\n",
       "<table border=\"1\" class=\"dataframe\">\n",
       "  <thead>\n",
       "    <tr style=\"text-align: right;\">\n",
       "      <th></th>\n",
       "      <th>video_link</th>\n",
       "      <th>vid_view</th>\n",
       "      <th>video_title</th>\n",
       "      <th>channel_url</th>\n",
       "      <th>creator_name</th>\n",
       "      <th>creator_gender</th>\n",
       "      <th>total_channel_subscriber</th>\n",
       "      <th>total_channel_views</th>\n",
       "      <th>duration_of_video</th>\n",
       "      <th>duration_in_seconds</th>\n",
       "      <th>...</th>\n",
       "      <th>subtitle</th>\n",
       "      <th>video_description</th>\n",
       "      <th>hashtags</th>\n",
       "      <th>no_of_comments</th>\n",
       "      <th>date_of_the_last_comment</th>\n",
       "      <th>maximum_quality_of_the_video</th>\n",
       "      <th>no_of_videos_the_channel</th>\n",
       "      <th>no_of_playlist</th>\n",
       "      <th>premiered_or_not</th>\n",
       "      <th>com_en_per_week</th>\n",
       "    </tr>\n",
       "  </thead>\n",
       "  <tbody>\n",
       "    <tr>\n",
       "      <th>0</th>\n",
       "      <td>https://youtu.be/_0fUOJ55gis</td>\n",
       "      <td>146059</td>\n",
       "      <td>Samse - Didupe Off-road Royal Enfield Himalayan</td>\n",
       "      <td>https://www.youtube.com/c/sriharick</td>\n",
       "      <td>srihari ck</td>\n",
       "      <td>Male</td>\n",
       "      <td>40200</td>\n",
       "      <td>7964284</td>\n",
       "      <td>0:30:41</td>\n",
       "      <td>1841</td>\n",
       "      <td>...</td>\n",
       "      <td>no</td>\n",
       "      <td>Yes</td>\n",
       "      <td>0</td>\n",
       "      <td>419</td>\n",
       "      <td>8/6/2022</td>\n",
       "      <td>1080p</td>\n",
       "      <td>462</td>\n",
       "      <td>12</td>\n",
       "      <td>No</td>\n",
       "      <td>1</td>\n",
       "    </tr>\n",
       "    <tr>\n",
       "      <th>1</th>\n",
       "      <td>https://youtu.be/_70MSLPRfZI</td>\n",
       "      <td>231969</td>\n",
       "      <td>Bhoom Baddhal Web Series</td>\n",
       "      <td>https://www.youtube.com/c/ChaibisketTelugu</td>\n",
       "      <td>Chai Bisket</td>\n",
       "      <td>Male</td>\n",
       "      <td>920000</td>\n",
       "      <td>137535681</td>\n",
       "      <td>0:14:24</td>\n",
       "      <td>864</td>\n",
       "      <td>...</td>\n",
       "      <td>no</td>\n",
       "      <td>Yes</td>\n",
       "      <td>1</td>\n",
       "      <td>189</td>\n",
       "      <td>6/15/2022</td>\n",
       "      <td>1080p</td>\n",
       "      <td>251</td>\n",
       "      <td>12</td>\n",
       "      <td>Yes</td>\n",
       "      <td>2</td>\n",
       "    </tr>\n",
       "    <tr>\n",
       "      <th>2</th>\n",
       "      <td>https://youtu.be/_8gfCdt3H00?t=87s</td>\n",
       "      <td>878</td>\n",
       "      <td>Customer Psychology, Four Views Of Consumer De...</td>\n",
       "      <td>https://www.youtube.com/channel/UCcIUnCsBfONvb...</td>\n",
       "      <td>Virda Warsi</td>\n",
       "      <td>Female</td>\n",
       "      <td>458</td>\n",
       "      <td>72945</td>\n",
       "      <td>0:08:12</td>\n",
       "      <td>492</td>\n",
       "      <td>...</td>\n",
       "      <td>no</td>\n",
       "      <td>Yes</td>\n",
       "      <td>0</td>\n",
       "      <td>0</td>\n",
       "      <td>NaN</td>\n",
       "      <td>720p</td>\n",
       "      <td>158</td>\n",
       "      <td>0</td>\n",
       "      <td>No</td>\n",
       "      <td>0</td>\n",
       "    </tr>\n",
       "    <tr>\n",
       "      <th>3</th>\n",
       "      <td>https://youtu.be/_CkFNJgKsFs</td>\n",
       "      <td>9965</td>\n",
       "      <td>Top countries with proven natural gas reserves</td>\n",
       "      <td>https://www.youtube.com/c/trtworld</td>\n",
       "      <td>TRT</td>\n",
       "      <td>Company</td>\n",
       "      <td>1680000</td>\n",
       "      <td>541653219</td>\n",
       "      <td>0:01:06</td>\n",
       "      <td>66</td>\n",
       "      <td>...</td>\n",
       "      <td>no</td>\n",
       "      <td>Yes</td>\n",
       "      <td>0</td>\n",
       "      <td>77</td>\n",
       "      <td>9/22/2022</td>\n",
       "      <td>1080p</td>\n",
       "      <td>46509</td>\n",
       "      <td>48</td>\n",
       "      <td>No</td>\n",
       "      <td>20</td>\n",
       "    </tr>\n",
       "    <tr>\n",
       "      <th>4</th>\n",
       "      <td>https://youtu.be/_GFkHA5EZdE</td>\n",
       "      <td>39780561</td>\n",
       "      <td>73 Questions With Selena Gomez</td>\n",
       "      <td>Vogue - YouTube</td>\n",
       "      <td>Vogue</td>\n",
       "      <td>Company</td>\n",
       "      <td>12100000</td>\n",
       "      <td>3600496171</td>\n",
       "      <td>0:07:40</td>\n",
       "      <td>460</td>\n",
       "      <td>...</td>\n",
       "      <td>yes</td>\n",
       "      <td>Yes</td>\n",
       "      <td>0</td>\n",
       "      <td>28221</td>\n",
       "      <td>9/23/2022</td>\n",
       "      <td>1080p</td>\n",
       "      <td>2872</td>\n",
       "      <td>113</td>\n",
       "      <td>No</td>\n",
       "      <td>1</td>\n",
       "    </tr>\n",
       "  </tbody>\n",
       "</table>\n",
       "<p>5 rows × 23 columns</p>\n",
       "</div>"
      ],
      "text/plain": [
       "                           video_link  vid_view  \\\n",
       "0        https://youtu.be/_0fUOJ55gis    146059   \n",
       "1        https://youtu.be/_70MSLPRfZI    231969   \n",
       "2  https://youtu.be/_8gfCdt3H00?t=87s       878   \n",
       "3        https://youtu.be/_CkFNJgKsFs      9965   \n",
       "4        https://youtu.be/_GFkHA5EZdE  39780561   \n",
       "\n",
       "                                         video_title  \\\n",
       "0    Samse - Didupe Off-road Royal Enfield Himalayan   \n",
       "1                           Bhoom Baddhal Web Series   \n",
       "2  Customer Psychology, Four Views Of Consumer De...   \n",
       "3     Top countries with proven natural gas reserves   \n",
       "4                     73 Questions With Selena Gomez   \n",
       "\n",
       "                                         channel_url creator_name  \\\n",
       "0                https://www.youtube.com/c/sriharick   srihari ck   \n",
       "1         https://www.youtube.com/c/ChaibisketTelugu  Chai Bisket   \n",
       "2  https://www.youtube.com/channel/UCcIUnCsBfONvb...  Virda Warsi   \n",
       "3                 https://www.youtube.com/c/trtworld          TRT   \n",
       "4                                    Vogue - YouTube        Vogue   \n",
       "\n",
       "  creator_gender  total_channel_subscriber  total_channel_views  \\\n",
       "0           Male                     40200              7964284   \n",
       "1           Male                    920000            137535681   \n",
       "2         Female                       458                72945   \n",
       "3        Company                   1680000            541653219   \n",
       "4        Company                  12100000           3600496171   \n",
       "\n",
       "  duration_of_video  duration_in_seconds  ... subtitle  video_description  \\\n",
       "0           0:30:41                 1841  ...       no                Yes   \n",
       "1           0:14:24                  864  ...       no                Yes   \n",
       "2           0:08:12                  492  ...       no                Yes   \n",
       "3           0:01:06                   66  ...       no                Yes   \n",
       "4           0:07:40                  460  ...      yes                Yes   \n",
       "\n",
       "  hashtags no_of_comments date_of_the_last_comment  \\\n",
       "0        0            419                 8/6/2022   \n",
       "1        1            189                6/15/2022   \n",
       "2        0              0                      NaN   \n",
       "3        0             77                9/22/2022   \n",
       "4        0          28221                9/23/2022   \n",
       "\n",
       "   maximum_quality_of_the_video  no_of_videos_the_channel no_of_playlist  \\\n",
       "0                         1080p                       462             12   \n",
       "1                         1080p                       251             12   \n",
       "2                          720p                       158              0   \n",
       "3                         1080p                     46509             48   \n",
       "4                         1080p                      2872            113   \n",
       "\n",
       "  premiered_or_not  com_en_per_week  \n",
       "0               No                1  \n",
       "1              Yes                2  \n",
       "2               No                0  \n",
       "3               No               20  \n",
       "4               No                1  \n",
       "\n",
       "[5 rows x 23 columns]"
      ]
     },
     "execution_count": 36,
     "metadata": {},
     "output_type": "execute_result"
    }
   ],
   "source": [
    "df.head(5)"
   ]
  },
  {
   "cell_type": "code",
   "execution_count": 37,
   "id": "fe14a4b6-3e30-4f72-b3f0-7d42f66acd02",
   "metadata": {},
   "outputs": [],
   "source": [
    "#df.loc(['video_title'].value(), 'video_title').lower()\n",
    "df['video_title'] = df['video_title'].str.lower()"
   ]
  },
  {
   "cell_type": "code",
   "execution_count": 38,
   "id": "0ce0ddcf-d3f9-4098-8cfa-988c85ddb7a7",
   "metadata": {},
   "outputs": [
    {
     "data": {
      "text/html": [
       "<div>\n",
       "<style scoped>\n",
       "    .dataframe tbody tr th:only-of-type {\n",
       "        vertical-align: middle;\n",
       "    }\n",
       "\n",
       "    .dataframe tbody tr th {\n",
       "        vertical-align: top;\n",
       "    }\n",
       "\n",
       "    .dataframe thead th {\n",
       "        text-align: right;\n",
       "    }\n",
       "</style>\n",
       "<table border=\"1\" class=\"dataframe\">\n",
       "  <thead>\n",
       "    <tr style=\"text-align: right;\">\n",
       "      <th></th>\n",
       "      <th>video_title</th>\n",
       "    </tr>\n",
       "  </thead>\n",
       "  <tbody>\n",
       "    <tr>\n",
       "      <th>0</th>\n",
       "      <td>samse - didupe off-road royal enfield himalayan</td>\n",
       "    </tr>\n",
       "    <tr>\n",
       "      <th>1</th>\n",
       "      <td>bhoom baddhal web series</td>\n",
       "    </tr>\n",
       "    <tr>\n",
       "      <th>2</th>\n",
       "      <td>customer psychology, four views of consumer de...</td>\n",
       "    </tr>\n",
       "    <tr>\n",
       "      <th>3</th>\n",
       "      <td>top countries with proven natural gas reserves</td>\n",
       "    </tr>\n",
       "    <tr>\n",
       "      <th>4</th>\n",
       "      <td>73 questions with selena gomez</td>\n",
       "    </tr>\n",
       "  </tbody>\n",
       "</table>\n",
       "</div>"
      ],
      "text/plain": [
       "                                         video_title\n",
       "0    samse - didupe off-road royal enfield himalayan\n",
       "1                           bhoom baddhal web series\n",
       "2  customer psychology, four views of consumer de...\n",
       "3     top countries with proven natural gas reserves\n",
       "4                     73 questions with selena gomez"
      ]
     },
     "execution_count": 38,
     "metadata": {},
     "output_type": "execute_result"
    }
   ],
   "source": [
    "df[['video_title']].head(5)"
   ]
  },
  {
   "cell_type": "code",
   "execution_count": 39,
   "id": "403ef942-226b-4cef-82ea-14e8ad3a6b6c",
   "metadata": {},
   "outputs": [
    {
     "data": {
      "text/plain": [
       "False    905\n",
       "Name: creator_gender, dtype: int64"
      ]
     },
     "execution_count": 39,
     "metadata": {},
     "output_type": "execute_result"
    }
   ],
   "source": [
    "df['creator_gender'].isnull().value_counts()"
   ]
  },
  {
   "cell_type": "code",
   "execution_count": 40,
   "id": "ec751486-86df-468e-a253-91858a4cb486",
   "metadata": {},
   "outputs": [
    {
     "data": {
      "text/plain": [
       "<AxesSubplot:ylabel='creator_gender'>"
      ]
     },
     "execution_count": 40,
     "metadata": {},
     "output_type": "execute_result"
    },
    {
     "data": {
      "image/png": "[encoded data removed]",
      "text/plain": [
       "<Figure size 640x480 with 1 Axes>"
      ]
     },
     "metadata": {},
     "output_type": "display_data"
    }
   ],
   "source": [
    "df['creator_gender'].value_counts(dropna = False).plot(kind = 'pie', autopct='%1.1f%%')"
   ]
  },
  {
   "cell_type": "code",
   "execution_count": 41,
   "id": "f6d3491f-550f-4a66-b77d-3bb1e2fd8c1b",
   "metadata": {},
   "outputs": [],
   "source": [
    "df['subtitle'].fillna(df['subtitle'].mode()[0], inplace = True) \n",
    "df['date_of_the_last_comment'].fillna(df['date_of_the_last_comment'].mode()[0], inplace = True) "
   ]
  },
  {
   "cell_type": "code",
   "execution_count": 42,
   "id": "baf5d36d-3cd0-4d07-bc84-7e5cfc394d8b",
   "metadata": {},
   "outputs": [
    {
     "data": {
      "text/plain": [
       "0"
      ]
     },
     "execution_count": 42,
     "metadata": {},
     "output_type": "execute_result"
    }
   ],
   "source": [
    "df['subtitle'].isnull().sum()"
   ]
  },
  {
   "cell_type": "code",
   "execution_count": 43,
   "id": "eefcb405-3fa3-46d4-baea-7b954c3f7d6f",
   "metadata": {},
   "outputs": [
    {
     "data": {
      "text/plain": [
       "<AxesSubplot:>"
      ]
     },
     "execution_count": 43,
     "metadata": {},
     "output_type": "execute_result"
    },
    {
     "data": {
      "image/png": "[encoded data removed]",
      "text/plain": [
       "<Figure size 640x480 with 1 Axes>"
      ]
     },
     "metadata": {},
     "output_type": "display_data"
    }
   ],
   "source": [
    "df['language_of_the_video'].value_counts(dropna = False).plot(kind = 'bar', color= 'red')"
   ]
  },
  {
   "cell_type": "code",
   "execution_count": 44,
   "id": "a4a1ab76-2d9c-4e05-9f3e-8c3317b9b5ac",
   "metadata": {},
   "outputs": [],
   "source": [
    "df['duration_of_video'] = pd.to_datetime(df['duration_of_video'])\n",
    "df['duration_of_video'] = df['duration_of_video'].apply(lambda x:x.time())"
   ]
  },
  {
   "cell_type": "code",
   "execution_count": 45,
   "id": "b18d0381-e2be-406c-907f-fe40fb4b7b57",
   "metadata": {},
   "outputs": [],
   "source": [
    "df.dropna(subset = ['language_of_the_video', 'creator_name'], inplace = True)"
   ]
  },
  {
   "cell_type": "code",
   "execution_count": 46,
   "id": "b4ae1a0f-01c2-466e-9c5f-2275bb3f2f55",
   "metadata": {},
   "outputs": [
    {
     "data": {
      "text/plain": [
       "video_link                      0\n",
       "vid_view                        0\n",
       "video_title                     0\n",
       "channel_url                     0\n",
       "creator_name                    0\n",
       "creator_gender                  0\n",
       "total_channel_subscriber        0\n",
       "total_channel_views             0\n",
       "duration_of_video               0\n",
       "duration_in_seconds             0\n",
       "date_of_video_upload            0\n",
       "no_of_likes                     0\n",
       "language_of_the_video           0\n",
       "subtitle                        0\n",
       "video_description               0\n",
       "hashtags                        0\n",
       "no_of_comments                  0\n",
       "date_of_the_last_comment        0\n",
       "maximum_quality_of_the_video    0\n",
       "no_of_videos_the_channel        0\n",
       "no_of_playlist                  0\n",
       "premiered_or_not                0\n",
       "com_en_per_week                 0\n",
       "dtype: int64"
      ]
     },
     "execution_count": 46,
     "metadata": {},
     "output_type": "execute_result"
    }
   ],
   "source": [
    "df.isna().sum()"
   ]
  },
  {
   "cell_type": "markdown",
   "id": "34b6fef7-8d98-46cd-91ee-3e51da48d32e",
   "metadata": {},
   "source": [
    "So now there are no null values in our dataset and lets look into the columns of date and time category and see what changes we can make."
   ]
  },
  {
   "cell_type": "code",
   "execution_count": 47,
   "id": "deff72d5-c7fb-4b19-8e93-4fe5aa525e7a",
   "metadata": {},
   "outputs": [
    {
     "data": {
      "text/html": [
       "<div>\n",
       "<style scoped>\n",
       "    .dataframe tbody tr th:only-of-type {\n",
       "        vertical-align: middle;\n",
       "    }\n",
       "\n",
       "    .dataframe tbody tr th {\n",
       "        vertical-align: top;\n",
       "    }\n",
       "\n",
       "    .dataframe thead th {\n",
       "        text-align: right;\n",
       "    }\n",
       "</style>\n",
       "<table border=\"1\" class=\"dataframe\">\n",
       "  <thead>\n",
       "    <tr style=\"text-align: right;\">\n",
       "      <th></th>\n",
       "      <th>duration_of_video</th>\n",
       "      <th>date_of_video_upload</th>\n",
       "      <th>date_of_the_last_comment</th>\n",
       "    </tr>\n",
       "  </thead>\n",
       "  <tbody>\n",
       "    <tr>\n",
       "      <th>0</th>\n",
       "      <td>00:30:41</td>\n",
       "      <td>7/29/2022</td>\n",
       "      <td>8/6/2022</td>\n",
       "    </tr>\n",
       "    <tr>\n",
       "      <th>1</th>\n",
       "      <td>00:14:24</td>\n",
       "      <td>5/22/2022</td>\n",
       "      <td>6/15/2022</td>\n",
       "    </tr>\n",
       "    <tr>\n",
       "      <th>2</th>\n",
       "      <td>00:08:12</td>\n",
       "      <td>2/9/2021</td>\n",
       "      <td>9/23/2022</td>\n",
       "    </tr>\n",
       "    <tr>\n",
       "      <th>3</th>\n",
       "      <td>00:01:06</td>\n",
       "      <td>9/13/2022</td>\n",
       "      <td>9/22/2022</td>\n",
       "    </tr>\n",
       "    <tr>\n",
       "      <th>4</th>\n",
       "      <td>00:07:40</td>\n",
       "      <td>3/21/2017</td>\n",
       "      <td>9/23/2022</td>\n",
       "    </tr>\n",
       "  </tbody>\n",
       "</table>\n",
       "</div>"
      ],
      "text/plain": [
       "  duration_of_video date_of_video_upload date_of_the_last_comment\n",
       "0          00:30:41            7/29/2022                 8/6/2022\n",
       "1          00:14:24            5/22/2022                6/15/2022\n",
       "2          00:08:12             2/9/2021                9/23/2022\n",
       "3          00:01:06            9/13/2022                9/22/2022\n",
       "4          00:07:40            3/21/2017                9/23/2022"
      ]
     },
     "execution_count": 47,
     "metadata": {},
     "output_type": "execute_result"
    }
   ],
   "source": [
    "df[['duration_of_video','date_of_video_upload','date_of_the_last_comment']].head()"
   ]
  },
  {
   "cell_type": "markdown",
   "id": "40eee289-7eb7-4bf3-a618-a58f34067a14",
   "metadata": {},
   "source": [
    "Convert string Date time into Python Date time object to perform better operation "
   ]
  },
  {
   "cell_type": "code",
   "execution_count": 80,
   "id": "d4b05eaa-acda-4768-bbec-8f6a4e813035",
   "metadata": {},
   "outputs": [],
   "source": [
    "df['date_of_video_upload'] = pd.to_datetime(df['date_of_video_upload'])\n",
    "df['date_of_the_last_comment'] = pd.to_datetime(df['date_of_video_upload'])"
   ]
  },
  {
   "cell_type": "code",
   "execution_count": 49,
   "id": "17a9e584-c5d6-4993-84e7-ac120a7f073d",
   "metadata": {},
   "outputs": [
    {
     "name": "stdout",
     "output_type": "stream",
     "text": [
      "<class 'pandas.core.series.Series'>\n",
      "Int64Index: 873 entries, 0 to 904\n",
      "Series name: date_of_video_upload\n",
      "Non-Null Count  Dtype         \n",
      "--------------  -----         \n",
      "873 non-null    datetime64[ns]\n",
      "dtypes: datetime64[ns](1)\n",
      "memory usage: 13.6 KB\n"
     ]
    }
   ],
   "source": [
    "df['date_of_video_upload'].info()"
   ]
  },
  {
   "cell_type": "code",
   "execution_count": 50,
   "id": "9c150584-8c57-4376-aea8-bbaba573edb1",
   "metadata": {},
   "outputs": [
    {
     "data": {
      "text/plain": [
       "<bound method Series.info of 0      00:30:41\n",
       "1      00:14:24\n",
       "2      00:08:12\n",
       "3      00:01:06\n",
       "4      00:07:40\n",
       "         ...   \n",
       "900    00:13:47\n",
       "901    00:06:44\n",
       "902    00:06:24\n",
       "903    00:04:39\n",
       "904    00:01:21\n",
       "Name: duration_of_video, Length: 873, dtype: object>"
      ]
     },
     "execution_count": 50,
     "metadata": {},
     "output_type": "execute_result"
    }
   ],
   "source": [
    "df['duration_of_video'].info"
   ]
  },
  {
   "cell_type": "code",
   "execution_count": 51,
   "id": "aebe8115-e755-44b7-827e-d27ad69c7307",
   "metadata": {},
   "outputs": [],
   "source": [
    "#df.reset_index(inplace = True)"
   ]
  },
  {
   "cell_type": "code",
   "execution_count": 52,
   "id": "acee25b4-2403-47fa-828d-6531f8b3b9af",
   "metadata": {},
   "outputs": [],
   "source": [
    "#df.drop(columns = ['index'], inplace = True)"
   ]
  },
  {
   "cell_type": "code",
   "execution_count": 53,
   "id": "0376228c-2213-4899-a450-0e6be090391b",
   "metadata": {},
   "outputs": [
    {
     "data": {
      "text/plain": [
       "<bound method Series.info of 0      00:30:41\n",
       "1      00:14:24\n",
       "2      00:08:12\n",
       "3      00:01:06\n",
       "4      00:07:40\n",
       "         ...   \n",
       "900    00:13:47\n",
       "901    00:06:44\n",
       "902    00:06:24\n",
       "903    00:04:39\n",
       "904    00:01:21\n",
       "Name: duration_of_video, Length: 873, dtype: object>"
      ]
     },
     "execution_count": 53,
     "metadata": {},
     "output_type": "execute_result"
    }
   ],
   "source": [
    "df['duration_of_video'].info"
   ]
  },
  {
   "cell_type": "code",
   "execution_count": 54,
   "id": "2a3001a2-d387-4a96-971a-057eb543612e",
   "metadata": {},
   "outputs": [
    {
     "data": {
      "text/plain": [
       "duration_of_video                   object\n",
       "duration_in_seconds                  int32\n",
       "date_of_video_upload        datetime64[ns]\n",
       "date_of_the_last_comment    datetime64[ns]\n",
       "dtype: object"
      ]
     },
     "execution_count": 54,
     "metadata": {},
     "output_type": "execute_result"
    }
   ],
   "source": [
    "df[['duration_of_video', 'duration_in_seconds','date_of_video_upload','date_of_the_last_comment']].dtypes"
   ]
  },
  {
   "cell_type": "code",
   "execution_count": 55,
   "id": "5987ee79-ee17-40a0-a7cd-212c4219727f",
   "metadata": {},
   "outputs": [],
   "source": [
    "df['duration_in_minutes'] = df.duration_of_video.apply(lambda x:(round(x.hour * 60 + x.minute + x.second/60)))"
   ]
  },
  {
   "cell_type": "code",
   "execution_count": 56,
   "id": "c71c0696-d82c-4080-bce0-42509c926f16",
   "metadata": {},
   "outputs": [
    {
     "data": {
      "text/html": [
       "<div>\n",
       "<style scoped>\n",
       "    .dataframe tbody tr th:only-of-type {\n",
       "        vertical-align: middle;\n",
       "    }\n",
       "\n",
       "    .dataframe tbody tr th {\n",
       "        vertical-align: top;\n",
       "    }\n",
       "\n",
       "    .dataframe thead th {\n",
       "        text-align: right;\n",
       "    }\n",
       "</style>\n",
       "<table border=\"1\" class=\"dataframe\">\n",
       "  <thead>\n",
       "    <tr style=\"text-align: right;\">\n",
       "      <th></th>\n",
       "      <th>duration_in_minutes</th>\n",
       "    </tr>\n",
       "  </thead>\n",
       "  <tbody>\n",
       "    <tr>\n",
       "      <th>0</th>\n",
       "      <td>31</td>\n",
       "    </tr>\n",
       "    <tr>\n",
       "      <th>1</th>\n",
       "      <td>14</td>\n",
       "    </tr>\n",
       "    <tr>\n",
       "      <th>2</th>\n",
       "      <td>8</td>\n",
       "    </tr>\n",
       "    <tr>\n",
       "      <th>3</th>\n",
       "      <td>1</td>\n",
       "    </tr>\n",
       "    <tr>\n",
       "      <th>4</th>\n",
       "      <td>8</td>\n",
       "    </tr>\n",
       "  </tbody>\n",
       "</table>\n",
       "</div>"
      ],
      "text/plain": [
       "   duration_in_minutes\n",
       "0                   31\n",
       "1                   14\n",
       "2                    8\n",
       "3                    1\n",
       "4                    8"
      ]
     },
     "execution_count": 56,
     "metadata": {},
     "output_type": "execute_result"
    }
   ],
   "source": [
    "df[['duration_in_minutes']].head(5)"
   ]
  },
  {
   "cell_type": "code",
   "execution_count": 57,
   "id": "b9614a74-aa30-4598-9671-105e5b9bf7a1",
   "metadata": {},
   "outputs": [],
   "source": [
    "df['upload_year'] = df['date_of_video_upload'].apply(lambda x:x.strftime('%Y'))\n",
    "df['upload_month'] = df['date_of_video_upload'].apply(lambda x:x.strftime('%B'))\n",
    "df['upload_weekday'] = df['date_of_video_upload'].apply(lambda x:x.strftime('%A'))"
   ]
  },
  {
   "cell_type": "code",
   "execution_count": 58,
   "id": "10caf7e2-b1f7-445b-924e-476ac7d27986",
   "metadata": {},
   "outputs": [
    {
     "data": {
      "text/plain": [
       "0      00:30:41\n",
       "1      00:14:24\n",
       "2      00:08:12\n",
       "3      00:01:06\n",
       "4      00:07:40\n",
       "         ...   \n",
       "900    00:13:47\n",
       "901    00:06:44\n",
       "902    00:06:24\n",
       "903    00:04:39\n",
       "904    00:01:21\n",
       "Name: duration_of_video, Length: 873, dtype: object"
      ]
     },
     "execution_count": 58,
     "metadata": {},
     "output_type": "execute_result"
    }
   ],
   "source": [
    "df.duration_of_video"
   ]
  },
  {
   "cell_type": "markdown",
   "id": "0a37c10e-b09a-422d-ac4a-d79b225a0b09",
   "metadata": {},
   "source": [
    "Add three column year, month and weekday of uploading video"
   ]
  },
  {
   "cell_type": "code",
   "execution_count": 59,
   "id": "089bc35c-73a5-4635-80e7-2e953b348f76",
   "metadata": {},
   "outputs": [
    {
     "data": {
      "text/html": [
       "<div>\n",
       "<style scoped>\n",
       "    .dataframe tbody tr th:only-of-type {\n",
       "        vertical-align: middle;\n",
       "    }\n",
       "\n",
       "    .dataframe tbody tr th {\n",
       "        vertical-align: top;\n",
       "    }\n",
       "\n",
       "    .dataframe thead th {\n",
       "        text-align: right;\n",
       "    }\n",
       "</style>\n",
       "<table border=\"1\" class=\"dataframe\">\n",
       "  <thead>\n",
       "    <tr style=\"text-align: right;\">\n",
       "      <th></th>\n",
       "      <th>video_link</th>\n",
       "      <th>vid_view</th>\n",
       "      <th>video_title</th>\n",
       "      <th>channel_url</th>\n",
       "      <th>creator_name</th>\n",
       "      <th>creator_gender</th>\n",
       "      <th>total_channel_subscriber</th>\n",
       "      <th>total_channel_views</th>\n",
       "      <th>duration_of_video</th>\n",
       "      <th>duration_in_seconds</th>\n",
       "      <th>...</th>\n",
       "      <th>date_of_the_last_comment</th>\n",
       "      <th>maximum_quality_of_the_video</th>\n",
       "      <th>no_of_videos_the_channel</th>\n",
       "      <th>no_of_playlist</th>\n",
       "      <th>premiered_or_not</th>\n",
       "      <th>com_en_per_week</th>\n",
       "      <th>duration_in_minutes</th>\n",
       "      <th>upload_year</th>\n",
       "      <th>upload_month</th>\n",
       "      <th>upload_weekday</th>\n",
       "    </tr>\n",
       "  </thead>\n",
       "  <tbody>\n",
       "    <tr>\n",
       "      <th>0</th>\n",
       "      <td>https://youtu.be/_0fUOJ55gis</td>\n",
       "      <td>146059</td>\n",
       "      <td>samse - didupe off-road royal enfield himalayan</td>\n",
       "      <td>https://www.youtube.com/c/sriharick</td>\n",
       "      <td>srihari ck</td>\n",
       "      <td>Male</td>\n",
       "      <td>40200</td>\n",
       "      <td>7964284</td>\n",
       "      <td>00:30:41</td>\n",
       "      <td>1841</td>\n",
       "      <td>...</td>\n",
       "      <td>2022-07-29</td>\n",
       "      <td>1080p</td>\n",
       "      <td>462</td>\n",
       "      <td>12</td>\n",
       "      <td>No</td>\n",
       "      <td>1</td>\n",
       "      <td>31</td>\n",
       "      <td>2022</td>\n",
       "      <td>July</td>\n",
       "      <td>Friday</td>\n",
       "    </tr>\n",
       "    <tr>\n",
       "      <th>1</th>\n",
       "      <td>https://youtu.be/_70MSLPRfZI</td>\n",
       "      <td>231969</td>\n",
       "      <td>bhoom baddhal web series</td>\n",
       "      <td>https://www.youtube.com/c/ChaibisketTelugu</td>\n",
       "      <td>Chai Bisket</td>\n",
       "      <td>Male</td>\n",
       "      <td>920000</td>\n",
       "      <td>137535681</td>\n",
       "      <td>00:14:24</td>\n",
       "      <td>864</td>\n",
       "      <td>...</td>\n",
       "      <td>2022-05-22</td>\n",
       "      <td>1080p</td>\n",
       "      <td>251</td>\n",
       "      <td>12</td>\n",
       "      <td>Yes</td>\n",
       "      <td>2</td>\n",
       "      <td>14</td>\n",
       "      <td>2022</td>\n",
       "      <td>May</td>\n",
       "      <td>Sunday</td>\n",
       "    </tr>\n",
       "  </tbody>\n",
       "</table>\n",
       "<p>2 rows × 27 columns</p>\n",
       "</div>"
      ],
      "text/plain": [
       "                     video_link  vid_view  \\\n",
       "0  https://youtu.be/_0fUOJ55gis    146059   \n",
       "1  https://youtu.be/_70MSLPRfZI    231969   \n",
       "\n",
       "                                       video_title  \\\n",
       "0  samse - didupe off-road royal enfield himalayan   \n",
       "1                         bhoom baddhal web series   \n",
       "\n",
       "                                  channel_url creator_name creator_gender  \\\n",
       "0         https://www.youtube.com/c/sriharick   srihari ck           Male   \n",
       "1  https://www.youtube.com/c/ChaibisketTelugu  Chai Bisket           Male   \n",
       "\n",
       "   total_channel_subscriber  total_channel_views duration_of_video  \\\n",
       "0                     40200              7964284          00:30:41   \n",
       "1                    920000            137535681          00:14:24   \n",
       "\n",
       "   duration_in_seconds  ... date_of_the_last_comment  \\\n",
       "0                 1841  ...               2022-07-29   \n",
       "1                  864  ...               2022-05-22   \n",
       "\n",
       "   maximum_quality_of_the_video no_of_videos_the_channel no_of_playlist  \\\n",
       "0                         1080p                      462             12   \n",
       "1                         1080p                      251             12   \n",
       "\n",
       "  premiered_or_not  com_en_per_week  duration_in_minutes upload_year  \\\n",
       "0               No                1                   31        2022   \n",
       "1              Yes                2                   14        2022   \n",
       "\n",
       "  upload_month  upload_weekday  \n",
       "0         July          Friday  \n",
       "1          May          Sunday  \n",
       "\n",
       "[2 rows x 27 columns]"
      ]
     },
     "execution_count": 59,
     "metadata": {},
     "output_type": "execute_result"
    }
   ],
   "source": [
    "df.head(2)"
   ]
  },
  {
   "cell_type": "code",
   "execution_count": 60,
   "id": "2df21f6c-7112-4b8f-942b-8769c56bcc24",
   "metadata": {},
   "outputs": [
    {
     "data": {
      "text/html": [
       "<div>\n",
       "<style scoped>\n",
       "    .dataframe tbody tr th:only-of-type {\n",
       "        vertical-align: middle;\n",
       "    }\n",
       "\n",
       "    .dataframe tbody tr th {\n",
       "        vertical-align: top;\n",
       "    }\n",
       "\n",
       "    .dataframe thead th {\n",
       "        text-align: right;\n",
       "    }\n",
       "</style>\n",
       "<table border=\"1\" class=\"dataframe\">\n",
       "  <thead>\n",
       "    <tr style=\"text-align: right;\">\n",
       "      <th></th>\n",
       "      <th>duration_in_minutes</th>\n",
       "      <th>upload_year</th>\n",
       "      <th>upload_month</th>\n",
       "      <th>upload_weekday</th>\n",
       "    </tr>\n",
       "  </thead>\n",
       "  <tbody>\n",
       "    <tr>\n",
       "      <th>0</th>\n",
       "      <td>31</td>\n",
       "      <td>2022</td>\n",
       "      <td>July</td>\n",
       "      <td>Friday</td>\n",
       "    </tr>\n",
       "    <tr>\n",
       "      <th>1</th>\n",
       "      <td>14</td>\n",
       "      <td>2022</td>\n",
       "      <td>May</td>\n",
       "      <td>Sunday</td>\n",
       "    </tr>\n",
       "    <tr>\n",
       "      <th>2</th>\n",
       "      <td>8</td>\n",
       "      <td>2021</td>\n",
       "      <td>February</td>\n",
       "      <td>Tuesday</td>\n",
       "    </tr>\n",
       "    <tr>\n",
       "      <th>3</th>\n",
       "      <td>1</td>\n",
       "      <td>2022</td>\n",
       "      <td>September</td>\n",
       "      <td>Tuesday</td>\n",
       "    </tr>\n",
       "    <tr>\n",
       "      <th>4</th>\n",
       "      <td>8</td>\n",
       "      <td>2017</td>\n",
       "      <td>March</td>\n",
       "      <td>Tuesday</td>\n",
       "    </tr>\n",
       "  </tbody>\n",
       "</table>\n",
       "</div>"
      ],
      "text/plain": [
       "   duration_in_minutes upload_year upload_month upload_weekday\n",
       "0                   31        2022         July         Friday\n",
       "1                   14        2022          May         Sunday\n",
       "2                    8        2021     February        Tuesday\n",
       "3                    1        2022    September        Tuesday\n",
       "4                    8        2017        March        Tuesday"
      ]
     },
     "execution_count": 60,
     "metadata": {},
     "output_type": "execute_result"
    }
   ],
   "source": [
    "df.head().iloc[:,-4:]"
   ]
  },
  {
   "cell_type": "code",
   "execution_count": 61,
   "id": "b0220e19-239c-49d4-a611-d4a9c324fc74",
   "metadata": {},
   "outputs": [
    {
     "name": "stderr",
     "output_type": "stream",
     "text": [
      "No artists with labels found to put in legend.  Note that artists whose label start with an underscore are ignored when legend() is called with no argument.\n"
     ]
    },
    {
     "data": {
      "text/plain": [
       "<matplotlib.legend.Legend at 0x134968a86a0>"
      ]
     },
     "execution_count": 61,
     "metadata": {},
     "output_type": "execute_result"
    },
    {
     "data": {
      "text/plain": [
       "<Figure size 2000x800 with 0 Axes>"
      ]
     },
     "metadata": {},
     "output_type": "display_data"
    },
    {
     "data": {
      "image/png": "[encoded data removed]",
      "text/plain": [
       "<Figure size 500x500 with 1 Axes>"
      ]
     },
     "metadata": {},
     "output_type": "display_data"
    }
   ],
   "source": [
    "plt.figure(figsize = (20,8))\n",
    "sns.displot(x = 'duration_in_minutes', data = df)\n",
    "plt.xlim(0,100)\n",
    "plt.legend()"
   ]
  },
  {
   "cell_type": "code",
   "execution_count": 62,
   "id": "e5119f61-999b-4e0d-9629-cc7dd9c5f5f1",
   "metadata": {},
   "outputs": [],
   "source": [
    "df['length_catagories'] = pd.cut(df['duration_in_minutes'], bins = [-1,2,10,30,60,1100] , labels = ['Supershort', 'Short', 'Medium','Long','SuperLong'])"
   ]
  },
  {
   "cell_type": "code",
   "execution_count": 63,
   "id": "9bc1d9eb-afac-42d5-92ef-a1737452d0c5",
   "metadata": {},
   "outputs": [
    {
     "name": "stdout",
     "output_type": "stream",
     "text": [
      "<class 'pandas.core.frame.DataFrame'>\n",
      "Int64Index: 873 entries, 0 to 904\n",
      "Data columns (total 28 columns):\n",
      " #   Column                        Non-Null Count  Dtype         \n",
      "---  ------                        --------------  -----         \n",
      " 0   video_link                    873 non-null    object        \n",
      " 1   vid_view                      873 non-null    int64         \n",
      " 2   video_title                   873 non-null    object        \n",
      " 3   channel_url                   873 non-null    object        \n",
      " 4   creator_name                  873 non-null    object        \n",
      " 5   creator_gender                873 non-null    object        \n",
      " 6   total_channel_subscriber      873 non-null    int32         \n",
      " 7   total_channel_views           873 non-null    int64         \n",
      " 8   duration_of_video             873 non-null    object        \n",
      " 9   duration_in_seconds           873 non-null    int32         \n",
      " 10  date_of_video_upload          873 non-null    datetime64[ns]\n",
      " 11  no_of_likes                   873 non-null    Int64         \n",
      " 12  language_of_the_video         873 non-null    object        \n",
      " 13  subtitle                      873 non-null    object        \n",
      " 14  video_description             873 non-null    object        \n",
      " 15  hashtags                      873 non-null    int64         \n",
      " 16  no_of_comments                873 non-null    int64         \n",
      " 17  date_of_the_last_comment      873 non-null    datetime64[ns]\n",
      " 18  maximum_quality_of_the_video  873 non-null    object        \n",
      " 19  no_of_videos_the_channel      873 non-null    int64         \n",
      " 20  no_of_playlist                873 non-null    Int64         \n",
      " 21  premiered_or_not              873 non-null    object        \n",
      " 22  com_en_per_week               873 non-null    int64         \n",
      " 23  duration_in_minutes           873 non-null    int64         \n",
      " 24  upload_year                   873 non-null    object        \n",
      " 25  upload_month                  873 non-null    object        \n",
      " 26  upload_weekday                873 non-null    object        \n",
      " 27  length_catagories             873 non-null    category      \n",
      "dtypes: Int64(2), category(1), datetime64[ns](2), int32(2), int64(7), object(14)\n",
      "memory usage: 219.2+ KB\n"
     ]
    }
   ],
   "source": [
    "df.info()"
   ]
  },
  {
   "cell_type": "code",
   "execution_count": 64,
   "id": "78820d11-eb7a-4e75-8687-3a6bdbeebd9e",
   "metadata": {},
   "outputs": [
    {
     "data": {
      "text/html": [
       "<div>\n",
       "<style scoped>\n",
       "    .dataframe tbody tr th:only-of-type {\n",
       "        vertical-align: middle;\n",
       "    }\n",
       "\n",
       "    .dataframe tbody tr th {\n",
       "        vertical-align: top;\n",
       "    }\n",
       "\n",
       "    .dataframe thead th {\n",
       "        text-align: right;\n",
       "    }\n",
       "</style>\n",
       "<table border=\"1\" class=\"dataframe\">\n",
       "  <thead>\n",
       "    <tr style=\"text-align: right;\">\n",
       "      <th></th>\n",
       "      <th>total_channel_views</th>\n",
       "    </tr>\n",
       "    <tr>\n",
       "      <th>creator_name</th>\n",
       "      <th></th>\n",
       "    </tr>\n",
       "  </thead>\n",
       "  <tbody>\n",
       "    <tr>\n",
       "      <th>100 Years Of Health</th>\n",
       "      <td>21328785</td>\n",
       "    </tr>\n",
       "    <tr>\n",
       "      <th>2 Brother Vlogs</th>\n",
       "      <td>18751275</td>\n",
       "    </tr>\n",
       "    <tr>\n",
       "      <th>365 Data Science</th>\n",
       "      <td>10864605</td>\n",
       "    </tr>\n",
       "    <tr>\n",
       "      <th>5-Minutes Décor</th>\n",
       "      <td>2504718854</td>\n",
       "    </tr>\n",
       "    <tr>\n",
       "      <th>A Girl From Uk02</th>\n",
       "      <td>13970</td>\n",
       "    </tr>\n",
       "  </tbody>\n",
       "</table>\n",
       "</div>"
      ],
      "text/plain": [
       "                     total_channel_views\n",
       "creator_name                            \n",
       "100 Years Of Health             21328785\n",
       "2 Brother Vlogs                 18751275\n",
       "365 Data Science                10864605\n",
       "5-Minutes Décor               2504718854\n",
       "A Girl From Uk02                   13970"
      ]
     },
     "execution_count": 64,
     "metadata": {},
     "output_type": "execute_result"
    }
   ],
   "source": [
    "df1 = df.filter(items = ['creator_name', 'total_channel_views'])\n",
    "df1.groupby('creator_name').max().head(5)"
   ]
  },
  {
   "cell_type": "code",
   "execution_count": 65,
   "id": "06f8bb66-7328-4d73-a4af-eb50441b4bb9",
   "metadata": {},
   "outputs": [
    {
     "data": {
      "text/html": [
       "<div>\n",
       "<style scoped>\n",
       "    .dataframe tbody tr th:only-of-type {\n",
       "        vertical-align: middle;\n",
       "    }\n",
       "\n",
       "    .dataframe tbody tr th {\n",
       "        vertical-align: top;\n",
       "    }\n",
       "\n",
       "    .dataframe thead th {\n",
       "        text-align: right;\n",
       "    }\n",
       "</style>\n",
       "<table border=\"1\" class=\"dataframe\">\n",
       "  <thead>\n",
       "    <tr style=\"text-align: right;\">\n",
       "      <th></th>\n",
       "      <th>creator_name</th>\n",
       "      <th>total_channel_views</th>\n",
       "    </tr>\n",
       "  </thead>\n",
       "  <tbody>\n",
       "    <tr>\n",
       "      <th>845</th>\n",
       "      <td>T-Series</td>\n",
       "      <td>202000000000</td>\n",
       "    </tr>\n",
       "  </tbody>\n",
       "</table>\n",
       "</div>"
      ],
      "text/plain": [
       "    creator_name  total_channel_views\n",
       "845     T-Series         202000000000"
      ]
     },
     "execution_count": 65,
     "metadata": {},
     "output_type": "execute_result"
    }
   ],
   "source": [
    "df1= df[df['creator_name'] == 'T-Series']\n",
    "df1[['creator_name', 'total_channel_views']]"
   ]
  },
  {
   "cell_type": "code",
   "execution_count": 66,
   "id": "a86fe90e-2082-4a03-afec-be911e1d953a",
   "metadata": {},
   "outputs": [
    {
     "data": {
      "text/plain": [
       "0         7.964284M\n",
       "1       137.535681M\n",
       "2         0.072945M\n",
       "3       541.653219M\n",
       "4      3600.496171M\n",
       "           ...     \n",
       "900      129.92669M\n",
       "901      129.92669M\n",
       "902       5.104872M\n",
       "903       5.104872M\n",
       "904     728.858923M\n",
       "Name: total_channel_views, Length: 873, dtype: object"
      ]
     },
     "execution_count": 66,
     "metadata": {},
     "output_type": "execute_result"
    }
   ],
   "source": [
    "df.total_channel_views.apply(lambda x : str(round(x / 10**6, 6)) + 'M')"
   ]
  },
  {
   "cell_type": "code",
   "execution_count": 67,
   "id": "8b9826b2-0180-4e79-a11e-58dd528ea896",
   "metadata": {},
   "outputs": [
    {
     "data": {
      "text/plain": [
       "0            Long\n",
       "1          Medium\n",
       "2           Short\n",
       "3      Supershort\n",
       "4           Short\n",
       "          ...    \n",
       "900        Medium\n",
       "901         Short\n",
       "902         Short\n",
       "903         Short\n",
       "904    Supershort\n",
       "Name: length_catagories, Length: 873, dtype: category\n",
       "Categories (5, object): ['Supershort' < 'Short' < 'Medium' < 'Long' < 'SuperLong']"
      ]
     },
     "execution_count": 67,
     "metadata": {},
     "output_type": "execute_result"
    }
   ],
   "source": [
    "df.length_catagories"
   ]
  },
  {
   "cell_type": "code",
   "execution_count": 68,
   "id": "99ec1099-d1d7-4a28-ad19-90dfebe8b8b8",
   "metadata": {},
   "outputs": [],
   "source": [
    "df.to_csv('youtube_cleaned.csv', index = False)"
   ]
  },
  {
   "cell_type": "markdown",
   "id": "e01635e1-0be4-497c-ada7-8026d53d1bc8",
   "metadata": {},
   "source": [
    "# EDA"
   ]
  },
  {
   "cell_type": "code",
   "execution_count": 69,
   "id": "a949b62f-f5ba-4eec-8e74-17904cc9abef",
   "metadata": {},
   "outputs": [
    {
     "data": {
      "text/html": [
       "<div>\n",
       "<style scoped>\n",
       "    .dataframe tbody tr th:only-of-type {\n",
       "        vertical-align: middle;\n",
       "    }\n",
       "\n",
       "    .dataframe tbody tr th {\n",
       "        vertical-align: top;\n",
       "    }\n",
       "\n",
       "    .dataframe thead th {\n",
       "        text-align: right;\n",
       "    }\n",
       "</style>\n",
       "<table border=\"1\" class=\"dataframe\">\n",
       "  <thead>\n",
       "    <tr style=\"text-align: right;\">\n",
       "      <th></th>\n",
       "      <th>creator_name</th>\n",
       "      <th>total_channel_subscriber</th>\n",
       "    </tr>\n",
       "  </thead>\n",
       "  <tbody>\n",
       "    <tr>\n",
       "      <th>444</th>\n",
       "      <td>Edureka</td>\n",
       "      <td>305200000</td>\n",
       "    </tr>\n",
       "    <tr>\n",
       "      <th>551</th>\n",
       "      <td>Bhushan Kumar</td>\n",
       "      <td>225000000</td>\n",
       "    </tr>\n",
       "    <tr>\n",
       "      <th>845</th>\n",
       "      <td>T-Series</td>\n",
       "      <td>225000000</td>\n",
       "    </tr>\n",
       "  </tbody>\n",
       "</table>\n",
       "</div>"
      ],
      "text/plain": [
       "      creator_name  total_channel_subscriber\n",
       "444        Edureka                 305200000\n",
       "551  Bhushan Kumar                 225000000\n",
       "845       T-Series                 225000000"
      ]
     },
     "execution_count": 69,
     "metadata": {},
     "output_type": "execute_result"
    }
   ],
   "source": [
    "#df.groupby('creator_name')[['total_channel_subscriber']].apply(lambda x : (x > 2*10**8)).sum().\\\n",
    "#reset_index( name = 'count')\n",
    "df[df['total_channel_subscriber'] > 2 * 10 ** 8][['creator_name', 'total_channel_subscriber']]"
   ]
  },
  {
   "cell_type": "markdown",
   "id": "e4d839d5-9dfc-4b2b-b274-9f1ca4784df0",
   "metadata": {},
   "source": [
    "## Top 10 Channels Subscribers wise "
   ]
  },
  {
   "cell_type": "code",
   "execution_count": 70,
   "id": "070cb553-e075-4e62-b997-d4a865fda3b0",
   "metadata": {},
   "outputs": [
    {
     "data": {
      "image/png": "[encoded data removed]",
      "text/plain": [
       "<Figure size 900x400 with 1 Axes>"
      ]
     },
     "metadata": {},
     "output_type": "display_data"
    }
   ],
   "source": [
    "highest_subscribe(df)"
   ]
  },
  {
   "cell_type": "code",
   "execution_count": 71,
   "id": "df4a32bd-b30a-4df5-a3ff-361e668ad97c",
   "metadata": {},
   "outputs": [
    {
     "data": {
      "text/html": [
       "<div>\n",
       "<style scoped>\n",
       "    .dataframe tbody tr th:only-of-type {\n",
       "        vertical-align: middle;\n",
       "    }\n",
       "\n",
       "    .dataframe tbody tr th {\n",
       "        vertical-align: top;\n",
       "    }\n",
       "\n",
       "    .dataframe thead th {\n",
       "        text-align: right;\n",
       "    }\n",
       "</style>\n",
       "<table border=\"1\" class=\"dataframe\">\n",
       "  <thead>\n",
       "    <tr style=\"text-align: right;\">\n",
       "      <th></th>\n",
       "      <th>creator_gender</th>\n",
       "      <th>total_channel_subscriber</th>\n",
       "    </tr>\n",
       "    <tr>\n",
       "      <th>creator_name</th>\n",
       "      <th></th>\n",
       "      <th></th>\n",
       "    </tr>\n",
       "  </thead>\n",
       "  <tbody>\n",
       "    <tr>\n",
       "      <th>Edureka</th>\n",
       "      <td>Company</td>\n",
       "      <td>305200000</td>\n",
       "    </tr>\n",
       "    <tr>\n",
       "      <th>T-Series</th>\n",
       "      <td>Company</td>\n",
       "      <td>225000000</td>\n",
       "    </tr>\n",
       "    <tr>\n",
       "      <th>Bhushan Kumar</th>\n",
       "      <td>Male</td>\n",
       "      <td>225000000</td>\n",
       "    </tr>\n",
       "    <tr>\n",
       "      <th>Camila Cabello</th>\n",
       "      <td>Female</td>\n",
       "      <td>160000000</td>\n",
       "    </tr>\n",
       "    <tr>\n",
       "      <th>MrBeast</th>\n",
       "      <td>Male</td>\n",
       "      <td>104000000</td>\n",
       "    </tr>\n",
       "    <tr>\n",
       "      <th>Mr Beast</th>\n",
       "      <td>Company</td>\n",
       "      <td>101000000</td>\n",
       "    </tr>\n",
       "    <tr>\n",
       "      <th>Alex Hirschi</th>\n",
       "      <td>Female</td>\n",
       "      <td>97000000</td>\n",
       "    </tr>\n",
       "    <tr>\n",
       "      <th>Shlok Srivastava.</th>\n",
       "      <td>Male</td>\n",
       "      <td>93900000</td>\n",
       "    </tr>\n",
       "    <tr>\n",
       "      <th>WWE</th>\n",
       "      <td>Male</td>\n",
       "      <td>91000000</td>\n",
       "    </tr>\n",
       "    <tr>\n",
       "      <th>Prime</th>\n",
       "      <td>Company</td>\n",
       "      <td>89800000</td>\n",
       "    </tr>\n",
       "  </tbody>\n",
       "</table>\n",
       "</div>"
      ],
      "text/plain": [
       "                  creator_gender  total_channel_subscriber\n",
       "creator_name                                              \n",
       "Edureka                  Company                 305200000\n",
       "T-Series                 Company                 225000000\n",
       "Bhushan Kumar               Male                 225000000\n",
       "Camila Cabello            Female                 160000000\n",
       "MrBeast                     Male                 104000000\n",
       "Mr Beast                 Company                 101000000\n",
       "Alex Hirschi              Female                  97000000\n",
       "Shlok Srivastava.           Male                  93900000\n",
       "WWE                         Male                  91000000\n",
       "Prime                    Company                  89800000"
      ]
     },
     "execution_count": 71,
     "metadata": {},
     "output_type": "execute_result"
    }
   ],
   "source": [
    "df[['creator_name', 'creator_gender','total_channel_subscriber']].groupby('creator_name').max().\\\n",
    "                        sort_values(by = 'total_channel_subscriber',ascending = False).head(10)"
   ]
  },
  {
   "cell_type": "markdown",
   "id": "3fb24350-dc57-4141-bb84-d347f37d71fe",
   "metadata": {},
   "source": [
    "As per the dataset, we can see that more than half of the top 10 channels are by individuals not comapanies. Males and Companies have equal number of channels in the top and double that of female."
   ]
  },
  {
   "cell_type": "markdown",
   "id": "adf6d2e8-5387-4bbb-b033-7fab80fdccb7",
   "metadata": {},
   "source": [
    "## Top 10 Channels View wise "
   ]
  },
  {
   "cell_type": "code",
   "execution_count": 72,
   "id": "45210e90-7a72-4fdb-9523-53d07e53e744",
   "metadata": {},
   "outputs": [
    {
     "data": {
      "image/png": "[encoded data removed]",
      "text/plain": [
       "<Figure size 900x400 with 1 Axes>"
      ]
     },
     "metadata": {},
     "output_type": "display_data"
    }
   ],
   "source": [
    "highest_views(df)"
   ]
  },
  {
   "cell_type": "code",
   "execution_count": 73,
   "id": "4a30b6d8-7442-4503-8157-cd9cdf7ff839",
   "metadata": {},
   "outputs": [
    {
     "data": {
      "text/html": [
       "<div>\n",
       "<style scoped>\n",
       "    .dataframe tbody tr th:only-of-type {\n",
       "        vertical-align: middle;\n",
       "    }\n",
       "\n",
       "    .dataframe tbody tr th {\n",
       "        vertical-align: top;\n",
       "    }\n",
       "\n",
       "    .dataframe thead th {\n",
       "        text-align: right;\n",
       "    }\n",
       "</style>\n",
       "<table border=\"1\" class=\"dataframe\">\n",
       "  <thead>\n",
       "    <tr style=\"text-align: right;\">\n",
       "      <th></th>\n",
       "      <th>creator_gender</th>\n",
       "      <th>total_channel_views</th>\n",
       "    </tr>\n",
       "    <tr>\n",
       "      <th>creator_name</th>\n",
       "      <th></th>\n",
       "      <th></th>\n",
       "    </tr>\n",
       "  </thead>\n",
       "  <tbody>\n",
       "    <tr>\n",
       "      <th>T-Series</th>\n",
       "      <td>Company</td>\n",
       "      <td>202000000000</td>\n",
       "    </tr>\n",
       "    <tr>\n",
       "      <th>Bhushan Kumar</th>\n",
       "      <td>Male</td>\n",
       "      <td>202000000000</td>\n",
       "    </tr>\n",
       "    <tr>\n",
       "      <th>WWE</th>\n",
       "      <td>Male</td>\n",
       "      <td>71528224019</td>\n",
       "    </tr>\n",
       "    <tr>\n",
       "      <th>Ed Sheeran</th>\n",
       "      <td>Male</td>\n",
       "      <td>28173317993</td>\n",
       "    </tr>\n",
       "    <tr>\n",
       "      <th>YouTube</th>\n",
       "      <td>Company</td>\n",
       "      <td>27725160330</td>\n",
       "    </tr>\n",
       "    <tr>\n",
       "      <th>ARY Digital HD</th>\n",
       "      <td>Company</td>\n",
       "      <td>27479278750</td>\n",
       "    </tr>\n",
       "    <tr>\n",
       "      <th>Taylor Swift</th>\n",
       "      <td>Female</td>\n",
       "      <td>25906311446</td>\n",
       "    </tr>\n",
       "    <tr>\n",
       "      <th>Sony Music India</th>\n",
       "      <td>Male</td>\n",
       "      <td>25516868039</td>\n",
       "    </tr>\n",
       "    <tr>\n",
       "      <th>Disney</th>\n",
       "      <td>Company</td>\n",
       "      <td>25216557237</td>\n",
       "    </tr>\n",
       "    <tr>\n",
       "      <th>Katy Perry</th>\n",
       "      <td>Female</td>\n",
       "      <td>24149147107</td>\n",
       "    </tr>\n",
       "  </tbody>\n",
       "</table>\n",
       "</div>"
      ],
      "text/plain": [
       "                 creator_gender  total_channel_views\n",
       "creator_name                                        \n",
       "T-Series                Company         202000000000\n",
       "Bhushan Kumar              Male         202000000000\n",
       "WWE                        Male          71528224019\n",
       "Ed Sheeran                 Male          28173317993\n",
       "YouTube                 Company          27725160330\n",
       "ARY Digital HD          Company          27479278750\n",
       "Taylor Swift             Female          25906311446\n",
       "Sony Music India           Male          25516868039\n",
       "Disney                  Company          25216557237\n",
       "Katy Perry               Female          24149147107"
      ]
     },
     "execution_count": 73,
     "metadata": {},
     "output_type": "execute_result"
    }
   ],
   "source": [
    "df[['creator_name', 'creator_gender','total_channel_views']].groupby('creator_name').max().\\\n",
    "                        sort_values(by = 'total_channel_views',ascending = False).head(10)"
   ]
  },
  {
   "cell_type": "markdown",
   "id": "132cfd50-1c96-465e-bada-f0df81797ce3",
   "metadata": {},
   "source": [
    "We observe that most of the channels belong to music industry. It seems music \n",
    "channels get the highest number of views of all categories."
   ]
  },
  {
   "cell_type": "code",
   "execution_count": 74,
   "id": "e3a95e34-0eef-45aa-82e2-1e6b32767c8f",
   "metadata": {},
   "outputs": [
    {
     "data": {
      "image/png": "[encoded data removed]",
      "text/plain": [
       "<Figure size 900x600 with 2 Axes>"
      ]
     },
     "metadata": {},
     "output_type": "display_data"
    }
   ],
   "source": [
    "numberOfLike_byGen(df)"
   ]
  },
  {
   "cell_type": "markdown",
   "id": "c029cc53-f774-4e68-9c7e-cc5b8a0e09b6",
   "metadata": {},
   "source": [
    "The videos made by Female gender are garning more likes than Males and Company by a huge margin."
   ]
  },
  {
   "cell_type": "code",
   "execution_count": 75,
   "id": "2ed5d8fb-cd73-4828-97ee-2bfa99ea6163",
   "metadata": {},
   "outputs": [
    {
     "data": {
      "text/html": [
       "<div>\n",
       "<style scoped>\n",
       "    .dataframe tbody tr th:only-of-type {\n",
       "        vertical-align: middle;\n",
       "    }\n",
       "\n",
       "    .dataframe tbody tr th {\n",
       "        vertical-align: top;\n",
       "    }\n",
       "\n",
       "    .dataframe thead th {\n",
       "        text-align: right;\n",
       "    }\n",
       "</style>\n",
       "<table border=\"1\" class=\"dataframe\">\n",
       "  <thead>\n",
       "    <tr style=\"text-align: right;\">\n",
       "      <th></th>\n",
       "      <th>length_catagories</th>\n",
       "    </tr>\n",
       "  </thead>\n",
       "  <tbody>\n",
       "    <tr>\n",
       "      <th>0</th>\n",
       "      <td>Long</td>\n",
       "    </tr>\n",
       "    <tr>\n",
       "      <th>1</th>\n",
       "      <td>Medium</td>\n",
       "    </tr>\n",
       "    <tr>\n",
       "      <th>2</th>\n",
       "      <td>Short</td>\n",
       "    </tr>\n",
       "    <tr>\n",
       "      <th>3</th>\n",
       "      <td>Supershort</td>\n",
       "    </tr>\n",
       "    <tr>\n",
       "      <th>4</th>\n",
       "      <td>Short</td>\n",
       "    </tr>\n",
       "  </tbody>\n",
       "</table>\n",
       "</div>"
      ],
      "text/plain": [
       "  length_catagories\n",
       "0              Long\n",
       "1            Medium\n",
       "2             Short\n",
       "3        Supershort\n",
       "4             Short"
      ]
     },
     "execution_count": 75,
     "metadata": {},
     "output_type": "execute_result"
    }
   ],
   "source": [
    "df.loc[:, ['length_catagories']].head()"
   ]
  },
  {
   "cell_type": "markdown",
   "id": "6ef41017-d75e-4678-a81d-8feaad166ec8",
   "metadata": {},
   "source": [
    "handle is artist of the plot"
   ]
  },
  {
   "cell_type": "markdown",
   "id": "d55be913-06d9-478b-b6cb-91b013ae011c",
   "metadata": {},
   "source": [
    "new = df.groupby('creator_name')[['total_channel_subscriber']].max().\\\n",
    "sort_values(by = \"total_channel_subscriber\", ascending = False).head()\n",
    "fig, ax = plt.subplots()\n",
    "sns.barplot(data = new, label = \"creator name\")\n",
    "plt.ylabel(\"total_channel_subscriber\")"
   ]
  },
  {
   "cell_type": "code",
   "execution_count": 76,
   "id": "f7df2c92-9ebe-4d9d-843e-9608e075c133",
   "metadata": {},
   "outputs": [
    {
     "data": {
      "image/png": "[encoded data removed]",
      "text/plain": [
       "<Figure size 700x400 with 1 Axes>"
      ]
     },
     "metadata": {},
     "output_type": "display_data"
    }
   ],
   "source": [
    "avg_per_video(df)"
   ]
  },
  {
   "cell_type": "code",
   "execution_count": 77,
   "id": "f09b3811-8c00-432f-bcac-429b55482f06",
   "metadata": {},
   "outputs": [
    {
     "data": {
      "text/plain": [
       "video_link                              object\n",
       "vid_view                                 int64\n",
       "video_title                             object\n",
       "channel_url                             object\n",
       "creator_name                            object\n",
       "creator_gender                          object\n",
       "total_channel_subscriber                 int32\n",
       "total_channel_views                      int64\n",
       "duration_of_video                       object\n",
       "duration_in_seconds                      int32\n",
       "date_of_video_upload            datetime64[ns]\n",
       "no_of_likes                              Int64\n",
       "language_of_the_video                   object\n",
       "subtitle                                object\n",
       "video_description                       object\n",
       "hashtags                                 int64\n",
       "no_of_comments                           int64\n",
       "date_of_the_last_comment        datetime64[ns]\n",
       "maximum_quality_of_the_video            object\n",
       "no_of_videos_the_channel                 int64\n",
       "no_of_playlist                           Int64\n",
       "premiered_or_not                        object\n",
       "com_en_per_week                          int64\n",
       "duration_in_minutes                      int64\n",
       "upload_year                             object\n",
       "upload_month                            object\n",
       "upload_weekday                          object\n",
       "length_catagories                     category\n",
       "dtype: object"
      ]
     },
     "execution_count": 77,
     "metadata": {},
     "output_type": "execute_result"
    }
   ],
   "source": [
    "df.dtypes"
   ]
  },
  {
   "cell_type": "code",
   "execution_count": 78,
   "id": "95f36fae-4885-4b2f-8491-7b502cd6ce63",
   "metadata": {},
   "outputs": [
    {
     "data": {
      "image/png": "[encoded data removed]",
      "text/plain": [
       "<Figure size 900x600 with 1 Axes>"
      ]
     },
     "metadata": {},
     "output_type": "display_data"
    }
   ],
   "source": [
    "video_quality_Like(df)"
   ]
  },
  {
   "cell_type": "code",
   "execution_count": 79,
   "id": "f7c28e87-46e0-4c8a-b14d-9e16694e8a1e",
   "metadata": {},
   "outputs": [
    {
     "data": {
      "image/png": "[encoded data removed]",
      "text/plain": [
       "<Figure size 900x600 with 1 Axes>"
      ]
     },
     "metadata": {},
     "output_type": "display_data"
    }
   ],
   "source": [
    "video_quality_view(df)"
   ]
  },
  {
   "cell_type": "code",
   "execution_count": null,
   "id": "4d01f6b8-6fff-4817-a2e9-91534eeb422e",
   "metadata": {},
   "outputs": [],
   "source": []
  }
 ],
 "metadata": {
  "kernelspec": {
   "display_name": "Python 3 (ipykernel)",
   "language": "python",
   "name": "python3"
  },
  "language_info": {
   "codemirror_mode": {
    "name": "ipython",
    "version": 3
   },
   "file_extension": ".py",
   "mimetype": "text/x-python",
   "name": "python",
   "nbconvert_exporter": "python",
   "pygments_lexer": "ipython3",
   "version": "3.10.5"
  },
  "vscode": {
   "interpreter": {
    "hash": "2b1e8a91151ceb8db053bf88ede7d3cb6b3b32be29a041180a4d5e1a9ad770bb"
   }
  }
 },
 "nbformat": 4,
 "nbformat_minor": 5
}
